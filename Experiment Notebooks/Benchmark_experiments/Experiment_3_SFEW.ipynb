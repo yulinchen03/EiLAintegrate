{
 "cells": [
  {
   "cell_type": "code",
   "execution_count": 48,
   "outputs": [],
   "source": [
    "import os\n",
    "import pandas as pd\n",
    "from tensorflow.keras.preprocessing.image import ImageDataGenerator\n",
    "import seaborn as sns\n",
    "\n",
    "paths = [['FER2013/train_FER2013', 'FER2013/validation_FER2013'], ['EiLA/EiLA_train', 'EiLA/EiLA_validation'], ['SFEW/Processed_Train_Faces', 'SFEW/Processed_Validation_Faces'], ['FER2013+10%EiLA/train', 'FER2013+10%EiLA/validation'], ['FER2013+30%EiLA/train', 'FER2013+30%EiLA/validation'], ['FER2013+50%EiLA/train', 'FER2013+50%EiLA/validation'],['FER2013+100%EiLA/train', 'FER2013+100%EiLA/validation'], ['SFEW+10%EiLA/train', 'SFEW+10%EiLA/validation'], ['SFEW+30%EiLA/train', 'SFEW+30%EiLA/validation'], ['SFEW+50%EiLA/train', 'SFEW+50%EiLA/validation'], ['SFEW+100%EiLA/train', 'SFEW+100%EiLA/validation']]\n",
    "current_dir = os.getcwd()\n",
    "parent_dir = os.path.dirname(current_dir)\n",
    "grandparent_dir = os.path.dirname(parent_dir)\n",
    "\n",
    "# Load the demographics spreadsheet\n",
    "demographics_df = pd.read_csv(os.path.join(grandparent_dir, 'EiLA/Extra/demographics.csv'))"
   ],
   "metadata": {
    "collapsed": false,
    "ExecuteTime": {
     "end_time": "2024-07-03T01:44:06.425157200Z",
     "start_time": "2024-07-03T01:44:06.409638400Z"
    }
   },
   "id": "97c57173e455f6b2"
  },
  {
   "cell_type": "code",
   "execution_count": 49,
   "outputs": [
    {
     "name": "stdout",
     "output_type": "stream",
     "text": [
      "C:\\Users\\chena\\Desktop\\ResearchProject\\Experiment_Datasets\\SFEW/Processed_Train_Faces\n",
      "C:\\Users\\chena\\Desktop\\ResearchProject\\Experiment_Datasets\\SFEW/Processed_Validation_Faces\n"
     ]
    }
   ],
   "source": [
    "import shutil\n",
    "\n",
    "experiment = 2\n",
    "train_dir = os.path.join(grandparent_dir, 'Experiment_Datasets', paths[experiment][0]) # select training dataset for this experiment\n",
    "validation_dir = os.path.join(grandparent_dir, 'Experiment_Datasets', paths[experiment][1])  # select validation dataset for this experiment\n",
    "test_dir = os.path.join(grandparent_dir, 'EiLA/Preprocessing/2.Resized_image/EiLA_test') # same for all experiments\n",
    "\n",
    "print(train_dir)\n",
    "print(validation_dir)\n",
    "\n",
    "valid_emotions = ['Angry', 'Disgust', 'Fear', 'Happy', 'Neutral', 'Sad', 'Surprise']\n",
    "\n",
    "emotions = os.listdir(train_dir)\n",
    "\n",
    "def clean_directory(directory, valid_emotions):\n",
    "    for item in os.listdir(directory):\n",
    "        item_path = os.path.join(directory, item)\n",
    "        if os.path.isdir(item_path) and item not in valid_emotions:\n",
    "            shutil.rmtree(item_path)  # Remove invalid directories (e.g ipynb_checkpoints)\n",
    "            \n",
    "clean_directory(train_dir, valid_emotions)\n",
    "clean_directory(validation_dir, valid_emotions)\n",
    "clean_directory(test_dir, valid_emotions)"
   ],
   "metadata": {
    "collapsed": false,
    "ExecuteTime": {
     "end_time": "2024-07-03T01:44:06.472857Z",
     "start_time": "2024-07-03T01:44:06.425157200Z"
    }
   },
   "id": "f6ca25f6313ed9e3"
  },
  {
   "cell_type": "code",
   "execution_count": 50,
   "outputs": [
    {
     "name": "stdout",
     "output_type": "stream",
     "text": [
      "Training set counts: defaultdict(<class 'int'>, {'Angry': 178, 'Disgust': 52, 'Fear': 78, 'Happy': 184, 'Neutral': 144, 'Sad': 161, 'Surprise': 94})\n",
      "Validation set counts: defaultdict(<class 'int'>, {'Angry': 77, 'Disgust': 23, 'Fear': 46, 'Happy': 72, 'Neutral': 84, 'Sad': 73, 'Surprise': 56})\n"
     ]
    }
   ],
   "source": [
    "from collections import defaultdict\n",
    "\n",
    "def count_images(directory, valid_emotions):\n",
    "    count = defaultdict(int)\n",
    "    for emotion in valid_emotions:\n",
    "        emotion_dir = os.path.join(directory, emotion)\n",
    "        if os.path.isdir(emotion_dir):\n",
    "            count[emotion] = len(os.listdir(emotion_dir))\n",
    "    return count\n",
    "\n",
    "train_counts = count_images(train_dir, valid_emotions)\n",
    "valid_counts = count_images(validation_dir, valid_emotions)\n",
    "\n",
    "print(\"Training set counts:\", train_counts)\n",
    "print(\"Validation set counts:\", valid_counts)"
   ],
   "metadata": {
    "collapsed": false,
    "ExecuteTime": {
     "end_time": "2024-07-03T01:44:06.473358500Z",
     "start_time": "2024-07-03T01:44:06.443349500Z"
    }
   },
   "id": "5405a8f186f4edf9"
  },
  {
   "cell_type": "code",
   "execution_count": 51,
   "outputs": [
    {
     "name": "stdout",
     "output_type": "stream",
     "text": [
      "Found 891 images belonging to 7 classes.\n",
      "Found 431 images belonging to 7 classes.\n",
      "Found 815 validated image filenames belonging to 7 classes.\n"
     ]
    }
   ],
   "source": [
    "from tensorflow.keras.preprocessing.image import ImageDataGenerator, img_to_array, load_img\n",
    "from tensorflow.keras.applications.resnet_v2 import preprocess_input\n",
    "import numpy as np\n",
    "\n",
    "# Create a DataFrame to hold image paths and corresponding labels and demographics\n",
    "def create_test_dataframe(data_dir, demographics_df):\n",
    "    data = []\n",
    "    for emotion in valid_emotions:\n",
    "        emotion_dir = os.path.join(data_dir, emotion)\n",
    "        if os.path.isdir(emotion_dir):\n",
    "            for img_name in os.listdir(emotion_dir):\n",
    "                img_path = os.path.join(emotion_dir, img_name)\n",
    "                # Extract demographic information from file name\n",
    "                id = img_name.split('.')[0].split('video_')[0].split('_label_')[0]\n",
    "                label = img_name.split('.')[0].split('video_')[0].split('_label_')[1].split('_')[0]\n",
    "                video_tag = img_name.split('.')[0].split('video_')[1].split('_clip_')[0]\n",
    "                clip_id = int(img_name.split('.')[0].split('video_')[1].split('_clip_')[1].split('_person_')[0])\n",
    "                person_id = int(img_name.split('.')[0].split('video_')[1].split('_clip_')[1].split('_person_')[1])       \n",
    "                \n",
    "                # Find the corresponding row in the demographics DataFrame\n",
    "                demo_info = demographics_df[(demographics_df['Video Tag'] == video_tag) &\n",
    "                                           (demographics_df['Clip Id'] == clip_id) &\n",
    "                                           (demographics_df['Person Id'] == person_id)]\n",
    "                if not demo_info.empty:\n",
    "                    perceived_race = demo_info.iloc[0]['Perceived Race']\n",
    "                    data.append((img_path, emotion, perceived_race))\n",
    "    return pd.DataFrame(data, columns=['path', 'emotion', 'Skin_tone'])\n",
    "\n",
    "\n",
    "datagen = ImageDataGenerator(preprocessing_function=preprocess_input)\n",
    "\n",
    "test_df = create_test_dataframe(test_dir, demographics_df)\n",
    "\n",
    "train_generator = datagen.flow_from_directory(\n",
    "    train_dir,\n",
    "    target_size=(224, 224),\n",
    "    batch_size=32,\n",
    "    class_mode='categorical',\n",
    "    shuffle=True,\n",
    "    color_mode='rgb'\n",
    ")\n",
    "\n",
    "valid_generator = datagen.flow_from_directory(\n",
    "    validation_dir,\n",
    "    target_size=(224, 224),\n",
    "    batch_size=32,\n",
    "    class_mode='categorical',\n",
    "    shuffle=True,\n",
    "    color_mode='rgb'\n",
    ")\n",
    "\n",
    "test_generator = datagen.flow_from_dataframe(\n",
    "    test_df,\n",
    "    x_col='path', \n",
    "    y_col='emotion',\n",
    "    target_size=(224, 224),\n",
    "    batch_size=32,\n",
    "    class_mode='categorical',\n",
    "    shuffle=False,\n",
    "    color_mode='rgb'\n",
    ")"
   ],
   "metadata": {
    "collapsed": false,
    "ExecuteTime": {
     "end_time": "2024-07-03T01:44:06.861236700Z",
     "start_time": "2024-07-03T01:44:06.458352500Z"
    }
   },
   "id": "e5b52f7efc2dcd37"
  },
  {
   "cell_type": "code",
   "execution_count": 52,
   "outputs": [
    {
     "data": {
      "text/plain": "                                                  path   emotion Skin_tone\n0    C:\\Users\\chena\\Desktop\\ResearchProject\\EiLA/Pr...     Angry         W\n1    C:\\Users\\chena\\Desktop\\ResearchProject\\EiLA/Pr...     Angry         W\n2    C:\\Users\\chena\\Desktop\\ResearchProject\\EiLA/Pr...     Angry         W\n3    C:\\Users\\chena\\Desktop\\ResearchProject\\EiLA/Pr...     Angry         W\n4    C:\\Users\\chena\\Desktop\\ResearchProject\\EiLA/Pr...     Angry         W\n..                                                 ...       ...       ...\n810  C:\\Users\\chena\\Desktop\\ResearchProject\\EiLA/Pr...  Surprise         W\n811  C:\\Users\\chena\\Desktop\\ResearchProject\\EiLA/Pr...  Surprise         W\n812  C:\\Users\\chena\\Desktop\\ResearchProject\\EiLA/Pr...  Surprise         W\n813  C:\\Users\\chena\\Desktop\\ResearchProject\\EiLA/Pr...  Surprise         W\n814  C:\\Users\\chena\\Desktop\\ResearchProject\\EiLA/Pr...  Surprise         W\n\n[815 rows x 3 columns]",
      "text/html": "<div>\n<style scoped>\n    .dataframe tbody tr th:only-of-type {\n        vertical-align: middle;\n    }\n\n    .dataframe tbody tr th {\n        vertical-align: top;\n    }\n\n    .dataframe thead th {\n        text-align: right;\n    }\n</style>\n<table border=\"1\" class=\"dataframe\">\n  <thead>\n    <tr style=\"text-align: right;\">\n      <th></th>\n      <th>path</th>\n      <th>emotion</th>\n      <th>Skin_tone</th>\n    </tr>\n  </thead>\n  <tbody>\n    <tr>\n      <th>0</th>\n      <td>C:\\Users\\chena\\Desktop\\ResearchProject\\EiLA/Pr...</td>\n      <td>Angry</td>\n      <td>W</td>\n    </tr>\n    <tr>\n      <th>1</th>\n      <td>C:\\Users\\chena\\Desktop\\ResearchProject\\EiLA/Pr...</td>\n      <td>Angry</td>\n      <td>W</td>\n    </tr>\n    <tr>\n      <th>2</th>\n      <td>C:\\Users\\chena\\Desktop\\ResearchProject\\EiLA/Pr...</td>\n      <td>Angry</td>\n      <td>W</td>\n    </tr>\n    <tr>\n      <th>3</th>\n      <td>C:\\Users\\chena\\Desktop\\ResearchProject\\EiLA/Pr...</td>\n      <td>Angry</td>\n      <td>W</td>\n    </tr>\n    <tr>\n      <th>4</th>\n      <td>C:\\Users\\chena\\Desktop\\ResearchProject\\EiLA/Pr...</td>\n      <td>Angry</td>\n      <td>W</td>\n    </tr>\n    <tr>\n      <th>...</th>\n      <td>...</td>\n      <td>...</td>\n      <td>...</td>\n    </tr>\n    <tr>\n      <th>810</th>\n      <td>C:\\Users\\chena\\Desktop\\ResearchProject\\EiLA/Pr...</td>\n      <td>Surprise</td>\n      <td>W</td>\n    </tr>\n    <tr>\n      <th>811</th>\n      <td>C:\\Users\\chena\\Desktop\\ResearchProject\\EiLA/Pr...</td>\n      <td>Surprise</td>\n      <td>W</td>\n    </tr>\n    <tr>\n      <th>812</th>\n      <td>C:\\Users\\chena\\Desktop\\ResearchProject\\EiLA/Pr...</td>\n      <td>Surprise</td>\n      <td>W</td>\n    </tr>\n    <tr>\n      <th>813</th>\n      <td>C:\\Users\\chena\\Desktop\\ResearchProject\\EiLA/Pr...</td>\n      <td>Surprise</td>\n      <td>W</td>\n    </tr>\n    <tr>\n      <th>814</th>\n      <td>C:\\Users\\chena\\Desktop\\ResearchProject\\EiLA/Pr...</td>\n      <td>Surprise</td>\n      <td>W</td>\n    </tr>\n  </tbody>\n</table>\n<p>815 rows × 3 columns</p>\n</div>"
     },
     "execution_count": 52,
     "metadata": {},
     "output_type": "execute_result"
    }
   ],
   "source": [
    "# test_df = create_test_dataframe('EiLA/EiLA_test', demographics_df)\n",
    "test_df"
   ],
   "metadata": {
    "collapsed": false,
    "ExecuteTime": {
     "end_time": "2024-07-03T01:44:06.862238900Z",
     "start_time": "2024-07-03T01:44:06.853559300Z"
    }
   },
   "id": "662ea0fd0b07a846"
  },
  {
   "cell_type": "code",
   "execution_count": 53,
   "outputs": [
    {
     "name": "stderr",
     "output_type": "stream",
     "text": [
      "C:\\Users\\chena\\AppData\\Local\\Packages\\PythonSoftwareFoundation.Python.3.11_qbz5n2kfra8p0\\LocalCache\\local-packages\\Python311\\site-packages\\seaborn\\_oldcore.py:1498: FutureWarning: is_categorical_dtype is deprecated and will be removed in a future version. Use isinstance(dtype, CategoricalDtype) instead\n",
      "  if pd.api.types.is_categorical_dtype(vector):\n",
      "C:\\Users\\chena\\AppData\\Local\\Packages\\PythonSoftwareFoundation.Python.3.11_qbz5n2kfra8p0\\LocalCache\\local-packages\\Python311\\site-packages\\seaborn\\_oldcore.py:1498: FutureWarning: is_categorical_dtype is deprecated and will be removed in a future version. Use isinstance(dtype, CategoricalDtype) instead\n",
      "  if pd.api.types.is_categorical_dtype(vector):\n",
      "C:\\Users\\chena\\AppData\\Local\\Packages\\PythonSoftwareFoundation.Python.3.11_qbz5n2kfra8p0\\LocalCache\\local-packages\\Python311\\site-packages\\seaborn\\_oldcore.py:1765: FutureWarning: unique with argument that is not not a Series, Index, ExtensionArray, or np.ndarray is deprecated and will raise in a future version.\n",
      "  order = pd.unique(vector)\n",
      "C:\\Users\\chena\\AppData\\Local\\Packages\\PythonSoftwareFoundation.Python.3.11_qbz5n2kfra8p0\\LocalCache\\local-packages\\Python311\\site-packages\\seaborn\\_oldcore.py:1498: FutureWarning: is_categorical_dtype is deprecated and will be removed in a future version. Use isinstance(dtype, CategoricalDtype) instead\n",
      "  if pd.api.types.is_categorical_dtype(vector):\n"
     ]
    },
    {
     "data": {
      "text/plain": "Text(0, 0.5, 'Size')"
     },
     "execution_count": 53,
     "metadata": {},
     "output_type": "execute_result"
    },
    {
     "data": {
      "text/plain": "<Figure size 640x480 with 1 Axes>",
      "image/png": "[encoded data removed]"
     },
     "metadata": {},
     "output_type": "display_data"
    }
   ],
   "source": [
    "import matplotlib.pyplot as plt\n",
    "\n",
    "emotions = os.listdir(train_dir)\n",
    "\n",
    "train_counts = []\n",
    "\n",
    "for emotion in emotions:\n",
    "    if not emotion.endswith('checkpoints'):\n",
    "        folder = os.path.join(train_dir, emotion)\n",
    "        train_counts.append(len(os.listdir(folder)))\n",
    "\n",
    "sns.barplot(x=emotions, y=train_counts, palette='magma').set_title(\"FER2013 Training set class distribution\")\n",
    "plt.xlabel('Emotion')\n",
    "plt.ylabel('Size')\n"
   ],
   "metadata": {
    "collapsed": false,
    "ExecuteTime": {
     "end_time": "2024-07-03T01:44:07.086138100Z",
     "start_time": "2024-07-03T01:44:06.860735700Z"
    }
   },
   "id": "6f801d42d5dcf99d"
  },
  {
   "cell_type": "code",
   "execution_count": 54,
   "outputs": [
    {
     "name": "stderr",
     "output_type": "stream",
     "text": [
      "C:\\Users\\chena\\AppData\\Local\\Packages\\PythonSoftwareFoundation.Python.3.11_qbz5n2kfra8p0\\LocalCache\\local-packages\\Python311\\site-packages\\seaborn\\_oldcore.py:1498: FutureWarning: is_categorical_dtype is deprecated and will be removed in a future version. Use isinstance(dtype, CategoricalDtype) instead\n",
      "  if pd.api.types.is_categorical_dtype(vector):\n",
      "C:\\Users\\chena\\AppData\\Local\\Packages\\PythonSoftwareFoundation.Python.3.11_qbz5n2kfra8p0\\LocalCache\\local-packages\\Python311\\site-packages\\seaborn\\_oldcore.py:1498: FutureWarning: is_categorical_dtype is deprecated and will be removed in a future version. Use isinstance(dtype, CategoricalDtype) instead\n",
      "  if pd.api.types.is_categorical_dtype(vector):\n",
      "C:\\Users\\chena\\AppData\\Local\\Packages\\PythonSoftwareFoundation.Python.3.11_qbz5n2kfra8p0\\LocalCache\\local-packages\\Python311\\site-packages\\seaborn\\_oldcore.py:1765: FutureWarning: unique with argument that is not not a Series, Index, ExtensionArray, or np.ndarray is deprecated and will raise in a future version.\n",
      "  order = pd.unique(vector)\n",
      "C:\\Users\\chena\\AppData\\Local\\Packages\\PythonSoftwareFoundation.Python.3.11_qbz5n2kfra8p0\\LocalCache\\local-packages\\Python311\\site-packages\\seaborn\\_oldcore.py:1498: FutureWarning: is_categorical_dtype is deprecated and will be removed in a future version. Use isinstance(dtype, CategoricalDtype) instead\n",
      "  if pd.api.types.is_categorical_dtype(vector):\n"
     ]
    },
    {
     "data": {
      "text/plain": "<Axes: >"
     },
     "execution_count": 54,
     "metadata": {},
     "output_type": "execute_result"
    },
    {
     "data": {
      "text/plain": "<Figure size 640x480 with 1 Axes>",
      "image/png": "[encoded data removed]"
     },
     "metadata": {},
     "output_type": "display_data"
    }
   ],
   "source": [
    "validation_counts = []\n",
    "\n",
    "for emotion in emotions:\n",
    "    folder = os.path.join(validation_dir, emotion)\n",
    "    validation_counts.append(len(os.listdir(folder)))\n",
    "    \n",
    "sns.barplot(x=emotions, y=validation_counts, palette='magma')"
   ],
   "metadata": {
    "collapsed": false,
    "ExecuteTime": {
     "end_time": "2024-07-03T01:44:07.196574800Z",
     "start_time": "2024-07-03T01:44:07.070126900Z"
    }
   },
   "id": "a37cd05ed22d9a4"
  },
  {
   "cell_type": "code",
   "execution_count": 55,
   "outputs": [
    {
     "data": {
      "text/plain": "\u001B[1mModel: \"sequential_1\"\u001B[0m\n",
      "text/html": "<pre style=\"white-space:pre;overflow-x:auto;line-height:normal;font-family:Menlo,'DejaVu Sans Mono',consolas,'Courier New',monospace\"><span style=\"font-weight: bold\">Model: \"sequential_1\"</span>\n</pre>\n"
     },
     "metadata": {},
     "output_type": "display_data"
    },
    {
     "data": {
      "text/plain": "┏━━━━━━━━━━━━━━━━━━━━━━━━━━━━━━━━━┳━━━━━━━━━━━━━━━━━━━━━━━━┳━━━━━━━━━━━━━━━┓\n┃\u001B[1m \u001B[0m\u001B[1mLayer (type)                   \u001B[0m\u001B[1m \u001B[0m┃\u001B[1m \u001B[0m\u001B[1mOutput Shape          \u001B[0m\u001B[1m \u001B[0m┃\u001B[1m \u001B[0m\u001B[1m      Param #\u001B[0m\u001B[1m \u001B[0m┃\n┡━━━━━━━━━━━━━━━━━━━━━━━━━━━━━━━━━╇━━━━━━━━━━━━━━━━━━━━━━━━╇━━━━━━━━━━━━━━━┩\n│ resnet50v2 (\u001B[38;5;33mFunctional\u001B[0m)         │ ?                      │    \u001B[38;5;34m23,564,800\u001B[0m │\n├─────────────────────────────────┼────────────────────────┼───────────────┤\n│ batch_normalization_1           │ ?                      │   \u001B[38;5;34m0\u001B[0m (unbuilt) │\n│ (\u001B[38;5;33mBatchNormalization\u001B[0m)            │                        │               │\n├─────────────────────────────────┼────────────────────────┼───────────────┤\n│ global_average_pooling2d_1      │ ?                      │   \u001B[38;5;34m0\u001B[0m (unbuilt) │\n│ (\u001B[38;5;33mGlobalAveragePooling2D\u001B[0m)        │                        │               │\n├─────────────────────────────────┼────────────────────────┼───────────────┤\n│ dense_5 (\u001B[38;5;33mDense\u001B[0m)                 │ ?                      │   \u001B[38;5;34m0\u001B[0m (unbuilt) │\n├─────────────────────────────────┼────────────────────────┼───────────────┤\n│ dropout_4 (\u001B[38;5;33mDropout\u001B[0m)             │ ?                      │   \u001B[38;5;34m0\u001B[0m (unbuilt) │\n├─────────────────────────────────┼────────────────────────┼───────────────┤\n│ dense_6 (\u001B[38;5;33mDense\u001B[0m)                 │ ?                      │   \u001B[38;5;34m0\u001B[0m (unbuilt) │\n├─────────────────────────────────┼────────────────────────┼───────────────┤\n│ dropout_5 (\u001B[38;5;33mDropout\u001B[0m)             │ ?                      │   \u001B[38;5;34m0\u001B[0m (unbuilt) │\n├─────────────────────────────────┼────────────────────────┼───────────────┤\n│ dense_7 (\u001B[38;5;33mDense\u001B[0m)                 │ ?                      │   \u001B[38;5;34m0\u001B[0m (unbuilt) │\n├─────────────────────────────────┼────────────────────────┼───────────────┤\n│ dropout_6 (\u001B[38;5;33mDropout\u001B[0m)             │ ?                      │   \u001B[38;5;34m0\u001B[0m (unbuilt) │\n├─────────────────────────────────┼────────────────────────┼───────────────┤\n│ dense_8 (\u001B[38;5;33mDense\u001B[0m)                 │ ?                      │   \u001B[38;5;34m0\u001B[0m (unbuilt) │\n├─────────────────────────────────┼────────────────────────┼───────────────┤\n│ dropout_7 (\u001B[38;5;33mDropout\u001B[0m)             │ ?                      │   \u001B[38;5;34m0\u001B[0m (unbuilt) │\n├─────────────────────────────────┼────────────────────────┼───────────────┤\n│ dense_9 (\u001B[38;5;33mDense\u001B[0m)                 │ ?                      │   \u001B[38;5;34m0\u001B[0m (unbuilt) │\n└─────────────────────────────────┴────────────────────────┴───────────────┘\n",
      "text/html": "<pre style=\"white-space:pre;overflow-x:auto;line-height:normal;font-family:Menlo,'DejaVu Sans Mono',consolas,'Courier New',monospace\">┏━━━━━━━━━━━━━━━━━━━━━━━━━━━━━━━━━┳━━━━━━━━━━━━━━━━━━━━━━━━┳━━━━━━━━━━━━━━━┓\n┃<span style=\"font-weight: bold\"> Layer (type)                    </span>┃<span style=\"font-weight: bold\"> Output Shape           </span>┃<span style=\"font-weight: bold\">       Param # </span>┃\n┡━━━━━━━━━━━━━━━━━━━━━━━━━━━━━━━━━╇━━━━━━━━━━━━━━━━━━━━━━━━╇━━━━━━━━━━━━━━━┩\n│ resnet50v2 (<span style=\"color: #0087ff; text-decoration-color: #0087ff\">Functional</span>)         │ ?                      │    <span style=\"color: #00af00; text-decoration-color: #00af00\">23,564,800</span> │\n├─────────────────────────────────┼────────────────────────┼───────────────┤\n│ batch_normalization_1           │ ?                      │   <span style=\"color: #00af00; text-decoration-color: #00af00\">0</span> (unbuilt) │\n│ (<span style=\"color: #0087ff; text-decoration-color: #0087ff\">BatchNormalization</span>)            │                        │               │\n├─────────────────────────────────┼────────────────────────┼───────────────┤\n│ global_average_pooling2d_1      │ ?                      │   <span style=\"color: #00af00; text-decoration-color: #00af00\">0</span> (unbuilt) │\n│ (<span style=\"color: #0087ff; text-decoration-color: #0087ff\">GlobalAveragePooling2D</span>)        │                        │               │\n├─────────────────────────────────┼────────────────────────┼───────────────┤\n│ dense_5 (<span style=\"color: #0087ff; text-decoration-color: #0087ff\">Dense</span>)                 │ ?                      │   <span style=\"color: #00af00; text-decoration-color: #00af00\">0</span> (unbuilt) │\n├─────────────────────────────────┼────────────────────────┼───────────────┤\n│ dropout_4 (<span style=\"color: #0087ff; text-decoration-color: #0087ff\">Dropout</span>)             │ ?                      │   <span style=\"color: #00af00; text-decoration-color: #00af00\">0</span> (unbuilt) │\n├─────────────────────────────────┼────────────────────────┼───────────────┤\n│ dense_6 (<span style=\"color: #0087ff; text-decoration-color: #0087ff\">Dense</span>)                 │ ?                      │   <span style=\"color: #00af00; text-decoration-color: #00af00\">0</span> (unbuilt) │\n├─────────────────────────────────┼────────────────────────┼───────────────┤\n│ dropout_5 (<span style=\"color: #0087ff; text-decoration-color: #0087ff\">Dropout</span>)             │ ?                      │   <span style=\"color: #00af00; text-decoration-color: #00af00\">0</span> (unbuilt) │\n├─────────────────────────────────┼────────────────────────┼───────────────┤\n│ dense_7 (<span style=\"color: #0087ff; text-decoration-color: #0087ff\">Dense</span>)                 │ ?                      │   <span style=\"color: #00af00; text-decoration-color: #00af00\">0</span> (unbuilt) │\n├─────────────────────────────────┼────────────────────────┼───────────────┤\n│ dropout_6 (<span style=\"color: #0087ff; text-decoration-color: #0087ff\">Dropout</span>)             │ ?                      │   <span style=\"color: #00af00; text-decoration-color: #00af00\">0</span> (unbuilt) │\n├─────────────────────────────────┼────────────────────────┼───────────────┤\n│ dense_8 (<span style=\"color: #0087ff; text-decoration-color: #0087ff\">Dense</span>)                 │ ?                      │   <span style=\"color: #00af00; text-decoration-color: #00af00\">0</span> (unbuilt) │\n├─────────────────────────────────┼────────────────────────┼───────────────┤\n│ dropout_7 (<span style=\"color: #0087ff; text-decoration-color: #0087ff\">Dropout</span>)             │ ?                      │   <span style=\"color: #00af00; text-decoration-color: #00af00\">0</span> (unbuilt) │\n├─────────────────────────────────┼────────────────────────┼───────────────┤\n│ dense_9 (<span style=\"color: #0087ff; text-decoration-color: #0087ff\">Dense</span>)                 │ ?                      │   <span style=\"color: #00af00; text-decoration-color: #00af00\">0</span> (unbuilt) │\n└─────────────────────────────────┴────────────────────────┴───────────────┘\n</pre>\n"
     },
     "metadata": {},
     "output_type": "display_data"
    },
    {
     "data": {
      "text/plain": "\u001B[1m Total params: \u001B[0m\u001B[38;5;34m23,564,800\u001B[0m (89.89 MB)\n",
      "text/html": "<pre style=\"white-space:pre;overflow-x:auto;line-height:normal;font-family:Menlo,'DejaVu Sans Mono',consolas,'Courier New',monospace\"><span style=\"font-weight: bold\"> Total params: </span><span style=\"color: #00af00; text-decoration-color: #00af00\">23,564,800</span> (89.89 MB)\n</pre>\n"
     },
     "metadata": {},
     "output_type": "display_data"
    },
    {
     "data": {
      "text/plain": "\u001B[1m Trainable params: \u001B[0m\u001B[38;5;34m0\u001B[0m (0.00 B)\n",
      "text/html": "<pre style=\"white-space:pre;overflow-x:auto;line-height:normal;font-family:Menlo,'DejaVu Sans Mono',consolas,'Courier New',monospace\"><span style=\"font-weight: bold\"> Trainable params: </span><span style=\"color: #00af00; text-decoration-color: #00af00\">0</span> (0.00 B)\n</pre>\n"
     },
     "metadata": {},
     "output_type": "display_data"
    },
    {
     "data": {
      "text/plain": "\u001B[1m Non-trainable params: \u001B[0m\u001B[38;5;34m23,564,800\u001B[0m (89.89 MB)\n",
      "text/html": "<pre style=\"white-space:pre;overflow-x:auto;line-height:normal;font-family:Menlo,'DejaVu Sans Mono',consolas,'Courier New',monospace\"><span style=\"font-weight: bold\"> Non-trainable params: </span><span style=\"color: #00af00; text-decoration-color: #00af00\">23,564,800</span> (89.89 MB)\n</pre>\n"
     },
     "metadata": {},
     "output_type": "display_data"
    }
   ],
   "source": [
    "import tensorflow as tf\n",
    "from tensorflow.keras.optimizers import Adamax, SGD\n",
    "from tensorflow.keras.layers import BatchNormalization, GlobalAveragePooling2D, Input, Dense, Dropout\n",
    "from tensorflow.keras.models import Sequential\n",
    "\n",
    "input_shape = (224, 224, 3)  \n",
    "\n",
    "base_model = tf.keras.applications.resnet_v2.ResNet50V2(include_top=False, weights='imagenet', input_shape=input_shape)\n",
    "\n",
    "for layer in base_model.layers:\n",
    "    layer.trainable = False\n",
    "\n",
    "model = Sequential([\n",
    "    base_model,\n",
    "    BatchNormalization(),\n",
    "    GlobalAveragePooling2D(),\n",
    "    Dense(512, activation='relu'),\n",
    "    Dropout(0.1),\n",
    "    Dense(256, activation='relu'),\n",
    "    Dropout(0.1),\n",
    "    Dense(128, activation='relu'),\n",
    "    Dropout(0.1),\n",
    "    Dense(64, activation='relu'),\n",
    "    Dropout(0.1),\n",
    "    Dense(7, activation='softmax')\n",
    "])\n",
    "\n",
    "optimizer = tf.keras.optimizers.Adamax(learning_rate=0.0001)\n",
    "\n",
    "model.compile(optimizer=optimizer, loss='categorical_crossentropy', metrics=['accuracy'])\n",
    "model.summary()"
   ],
   "metadata": {
    "collapsed": false,
    "ExecuteTime": {
     "end_time": "2024-07-03T01:44:07.945096700Z",
     "start_time": "2024-07-03T01:44:07.200576900Z"
    }
   },
   "id": "7e61f9b7e7918058"
  },
  {
   "cell_type": "code",
   "execution_count": 56,
   "outputs": [
    {
     "name": "stdout",
     "output_type": "stream",
     "text": [
      "Epoch 1/15\n"
     ]
    },
    {
     "name": "stderr",
     "output_type": "stream",
     "text": [
      "C:\\Users\\chena\\AppData\\Local\\Packages\\PythonSoftwareFoundation.Python.3.11_qbz5n2kfra8p0\\LocalCache\\local-packages\\Python311\\site-packages\\keras\\src\\trainers\\data_adapters\\py_dataset_adapter.py:121: UserWarning: Your `PyDataset` class should call `super().__init__(**kwargs)` in its constructor. `**kwargs` can include `workers`, `use_multiprocessing`, `max_queue_size`. Do not pass these arguments to `fit()`, as they will be ignored.\n",
      "  self._warn_if_super_not_called()\n"
     ]
    },
    {
     "name": "stdout",
     "output_type": "stream",
     "text": [
      "\u001B[1m28/28\u001B[0m \u001B[32m━━━━━━━━━━━━━━━━━━━━\u001B[0m\u001B[37m\u001B[0m \u001B[1m41s\u001B[0m 1s/step - accuracy: 0.1172 - loss: 1.9706 - val_accuracy: 0.1879 - val_loss: 1.9405\n",
      "Epoch 2/15\n",
      "\u001B[1m28/28\u001B[0m \u001B[32m━━━━━━━━━━━━━━━━━━━━\u001B[0m\u001B[37m\u001B[0m \u001B[1m35s\u001B[0m 1s/step - accuracy: 0.1906 - loss: 1.9211 - val_accuracy: 0.1833 - val_loss: 1.9223\n",
      "Epoch 3/15\n",
      "\u001B[1m28/28\u001B[0m \u001B[32m━━━━━━━━━━━━━━━━━━━━\u001B[0m\u001B[37m\u001B[0m \u001B[1m34s\u001B[0m 1s/step - accuracy: 0.2527 - loss: 1.8817 - val_accuracy: 0.1763 - val_loss: 1.9131\n",
      "Epoch 4/15\n",
      "\u001B[1m28/28\u001B[0m \u001B[32m━━━━━━━━━━━━━━━━━━━━\u001B[0m\u001B[37m\u001B[0m \u001B[1m35s\u001B[0m 1s/step - accuracy: 0.2799 - loss: 1.8514 - val_accuracy: 0.1972 - val_loss: 1.9053\n",
      "Epoch 5/15\n",
      "\u001B[1m28/28\u001B[0m \u001B[32m━━━━━━━━━━━━━━━━━━━━\u001B[0m\u001B[37m\u001B[0m \u001B[1m35s\u001B[0m 1s/step - accuracy: 0.3016 - loss: 1.8482 - val_accuracy: 0.2042 - val_loss: 1.8989\n",
      "Epoch 6/15\n",
      "\u001B[1m28/28\u001B[0m \u001B[32m━━━━━━━━━━━━━━━━━━━━\u001B[0m\u001B[37m\u001B[0m \u001B[1m34s\u001B[0m 1s/step - accuracy: 0.3374 - loss: 1.8114 - val_accuracy: 0.2227 - val_loss: 1.8914\n",
      "Epoch 7/15\n",
      "\u001B[1m28/28\u001B[0m \u001B[32m━━━━━━━━━━━━━━━━━━━━\u001B[0m\u001B[37m\u001B[0m \u001B[1m34s\u001B[0m 1s/step - accuracy: 0.3709 - loss: 1.7812 - val_accuracy: 0.2320 - val_loss: 1.8838\n",
      "Epoch 8/15\n",
      "\u001B[1m28/28\u001B[0m \u001B[32m━━━━━━━━━━━━━━━━━━━━\u001B[0m\u001B[37m\u001B[0m \u001B[1m35s\u001B[0m 1s/step - accuracy: 0.3720 - loss: 1.7620 - val_accuracy: 0.2227 - val_loss: 1.8759\n",
      "Epoch 9/15\n",
      "\u001B[1m28/28\u001B[0m \u001B[32m━━━━━━━━━━━━━━━━━━━━\u001B[0m\u001B[37m\u001B[0m \u001B[1m34s\u001B[0m 1s/step - accuracy: 0.4245 - loss: 1.7180 - val_accuracy: 0.2483 - val_loss: 1.8687\n",
      "Epoch 10/15\n",
      "\u001B[1m28/28\u001B[0m \u001B[32m━━━━━━━━━━━━━━━━━━━━\u001B[0m\u001B[37m\u001B[0m \u001B[1m34s\u001B[0m 1s/step - accuracy: 0.4095 - loss: 1.6990 - val_accuracy: 0.2715 - val_loss: 1.8613\n",
      "Epoch 11/15\n",
      "\u001B[1m28/28\u001B[0m \u001B[32m━━━━━━━━━━━━━━━━━━━━\u001B[0m\u001B[37m\u001B[0m \u001B[1m34s\u001B[0m 1s/step - accuracy: 0.4254 - loss: 1.6712 - val_accuracy: 0.2761 - val_loss: 1.8545\n",
      "Epoch 12/15\n",
      "\u001B[1m28/28\u001B[0m \u001B[32m━━━━━━━━━━━━━━━━━━━━\u001B[0m\u001B[37m\u001B[0m \u001B[1m34s\u001B[0m 1s/step - accuracy: 0.4430 - loss: 1.6281 - val_accuracy: 0.2854 - val_loss: 1.8469\n",
      "Epoch 13/15\n",
      "\u001B[1m28/28\u001B[0m \u001B[32m━━━━━━━━━━━━━━━━━━━━\u001B[0m\u001B[37m\u001B[0m \u001B[1m35s\u001B[0m 1s/step - accuracy: 0.4612 - loss: 1.6103 - val_accuracy: 0.2900 - val_loss: 1.8396\n",
      "Epoch 14/15\n",
      "\u001B[1m28/28\u001B[0m \u001B[32m━━━━━━━━━━━━━━━━━━━━\u001B[0m\u001B[37m\u001B[0m \u001B[1m35s\u001B[0m 1s/step - accuracy: 0.4809 - loss: 1.5675 - val_accuracy: 0.2831 - val_loss: 1.8330\n",
      "Epoch 15/15\n",
      "\u001B[1m28/28\u001B[0m \u001B[32m━━━━━━━━━━━━━━━━━━━━\u001B[0m\u001B[37m\u001B[0m \u001B[1m34s\u001B[0m 1s/step - accuracy: 0.4751 - loss: 1.5456 - val_accuracy: 0.2923 - val_loss: 1.8260\n"
     ]
    }
   ],
   "source": [
    "# Fit the model\n",
    "history = model.fit(\n",
    "    train_generator,\n",
    "    epochs=15,\n",
    "    validation_data=valid_generator,\n",
    ")"
   ],
   "metadata": {
    "collapsed": false,
    "ExecuteTime": {
     "end_time": "2024-07-03T01:52:51.764929100Z",
     "start_time": "2024-07-03T01:44:07.943415600Z"
    }
   },
   "id": "6700f2a4c37bf43"
  },
  {
   "cell_type": "code",
   "execution_count": 57,
   "outputs": [],
   "source": [
    "from keras.callbacks import EarlyStopping, ReduceLROnPlateau\n",
    "\n",
    "# Callbacks\n",
    "early_stopping = EarlyStopping(monitor='val_loss', patience=15, restore_best_weights=True)\n",
    "reduce_lr = ReduceLROnPlateau(monitor='val_loss', factor=0.2, patience=3, min_lr=1e-7)"
   ],
   "metadata": {
    "collapsed": false,
    "ExecuteTime": {
     "end_time": "2024-07-03T01:52:51.773627700Z",
     "start_time": "2024-07-03T01:52:51.766429700Z"
    }
   },
   "id": "2929a63de3471e0f"
  },
  {
   "cell_type": "code",
   "execution_count": 58,
   "outputs": [],
   "source": [
    "# Unfreeze some layers in the base model for fine-tuning\n",
    "for layer in base_model.layers[-10:]:\n",
    "    layer.trainable = True"
   ],
   "metadata": {
    "collapsed": false,
    "ExecuteTime": {
     "end_time": "2024-07-03T01:52:51.782046400Z",
     "start_time": "2024-07-03T01:52:51.772628400Z"
    }
   },
   "id": "4f8d54e5987aa4c"
  },
  {
   "cell_type": "code",
   "execution_count": 59,
   "outputs": [],
   "source": [
    "optimizer = Adamax(learning_rate=0.00001)\n",
    "model.compile(optimizer=optimizer, loss='categorical_crossentropy', metrics=['accuracy'])"
   ],
   "metadata": {
    "collapsed": false,
    "ExecuteTime": {
     "end_time": "2024-07-03T01:52:51.803285100Z",
     "start_time": "2024-07-03T01:52:51.781045Z"
    }
   },
   "id": "54b9cbf7ef5e4686"
  },
  {
   "cell_type": "code",
   "execution_count": 60,
   "outputs": [
    {
     "name": "stdout",
     "output_type": "stream",
     "text": [
      "Epoch 1/35\n",
      "\u001B[1m28/28\u001B[0m \u001B[32m━━━━━━━━━━━━━━━━━━━━\u001B[0m\u001B[37m\u001B[0m \u001B[1m43s\u001B[0m 1s/step - accuracy: 0.3861 - loss: 1.6473 - val_accuracy: 0.2552 - val_loss: 1.8332 - learning_rate: 1.0000e-05\n",
      "Epoch 2/35\n",
      "\u001B[1m28/28\u001B[0m \u001B[32m━━━━━━━━━━━━━━━━━━━━\u001B[0m\u001B[37m\u001B[0m \u001B[1m37s\u001B[0m 1s/step - accuracy: 0.4547 - loss: 1.5933 - val_accuracy: 0.2413 - val_loss: 1.8351 - learning_rate: 1.0000e-05\n",
      "Epoch 3/35\n",
      "\u001B[1m28/28\u001B[0m \u001B[32m━━━━━━━━━━━━━━━━━━━━\u001B[0m\u001B[37m\u001B[0m \u001B[1m37s\u001B[0m 1s/step - accuracy: 0.4574 - loss: 1.5617 - val_accuracy: 0.2459 - val_loss: 1.8343 - learning_rate: 1.0000e-05\n",
      "Epoch 4/35\n",
      "\u001B[1m28/28\u001B[0m \u001B[32m━━━━━━━━━━━━━━━━━━━━\u001B[0m\u001B[37m\u001B[0m \u001B[1m37s\u001B[0m 1s/step - accuracy: 0.4485 - loss: 1.5722 - val_accuracy: 0.2552 - val_loss: 1.8322 - learning_rate: 1.0000e-05\n",
      "Epoch 5/35\n",
      "\u001B[1m28/28\u001B[0m \u001B[32m━━━━━━━━━━━━━━━━━━━━\u001B[0m\u001B[37m\u001B[0m \u001B[1m37s\u001B[0m 1s/step - accuracy: 0.4408 - loss: 1.5685 - val_accuracy: 0.2529 - val_loss: 1.8295 - learning_rate: 1.0000e-05\n",
      "Epoch 6/35\n",
      "\u001B[1m28/28\u001B[0m \u001B[32m━━━━━━━━━━━━━━━━━━━━\u001B[0m\u001B[37m\u001B[0m \u001B[1m37s\u001B[0m 1s/step - accuracy: 0.5086 - loss: 1.5124 - val_accuracy: 0.2483 - val_loss: 1.8265 - learning_rate: 1.0000e-05\n",
      "Epoch 7/35\n",
      "\u001B[1m28/28\u001B[0m \u001B[32m━━━━━━━━━━━━━━━━━━━━\u001B[0m\u001B[37m\u001B[0m \u001B[1m37s\u001B[0m 1s/step - accuracy: 0.4949 - loss: 1.5336 - val_accuracy: 0.2483 - val_loss: 1.8247 - learning_rate: 1.0000e-05\n",
      "Epoch 8/35\n",
      "\u001B[1m28/28\u001B[0m \u001B[32m━━━━━━━━━━━━━━━━━━━━\u001B[0m\u001B[37m\u001B[0m \u001B[1m37s\u001B[0m 1s/step - accuracy: 0.4772 - loss: 1.5434 - val_accuracy: 0.2715 - val_loss: 1.8222 - learning_rate: 1.0000e-05\n",
      "Epoch 9/35\n",
      "\u001B[1m28/28\u001B[0m \u001B[32m━━━━━━━━━━━━━━━━━━━━\u001B[0m\u001B[37m\u001B[0m \u001B[1m37s\u001B[0m 1s/step - accuracy: 0.4743 - loss: 1.5474 - val_accuracy: 0.2738 - val_loss: 1.8200 - learning_rate: 1.0000e-05\n",
      "Epoch 10/35\n",
      "\u001B[1m28/28\u001B[0m \u001B[32m━━━━━━━━━━━━━━━━━━━━\u001B[0m\u001B[37m\u001B[0m \u001B[1m37s\u001B[0m 1s/step - accuracy: 0.4781 - loss: 1.5152 - val_accuracy: 0.2784 - val_loss: 1.8174 - learning_rate: 1.0000e-05\n",
      "Epoch 11/35\n",
      "\u001B[1m28/28\u001B[0m \u001B[32m━━━━━━━━━━━━━━━━━━━━\u001B[0m\u001B[37m\u001B[0m \u001B[1m37s\u001B[0m 1s/step - accuracy: 0.4995 - loss: 1.4911 - val_accuracy: 0.2761 - val_loss: 1.8161 - learning_rate: 1.0000e-05\n",
      "Epoch 12/35\n",
      "\u001B[1m28/28\u001B[0m \u001B[32m━━━━━━━━━━━━━━━━━━━━\u001B[0m\u001B[37m\u001B[0m \u001B[1m37s\u001B[0m 1s/step - accuracy: 0.5144 - loss: 1.4679 - val_accuracy: 0.2784 - val_loss: 1.8144 - learning_rate: 1.0000e-05\n",
      "Epoch 13/35\n",
      "\u001B[1m28/28\u001B[0m \u001B[32m━━━━━━━━━━━━━━━━━━━━\u001B[0m\u001B[37m\u001B[0m \u001B[1m37s\u001B[0m 1s/step - accuracy: 0.5192 - loss: 1.5021 - val_accuracy: 0.2807 - val_loss: 1.8132 - learning_rate: 1.0000e-05\n",
      "Epoch 14/35\n",
      "\u001B[1m28/28\u001B[0m \u001B[32m━━━━━━━━━━━━━━━━━━━━\u001B[0m\u001B[37m\u001B[0m \u001B[1m37s\u001B[0m 1s/step - accuracy: 0.5393 - loss: 1.4674 - val_accuracy: 0.2807 - val_loss: 1.8117 - learning_rate: 1.0000e-05\n",
      "Epoch 15/35\n",
      "\u001B[1m28/28\u001B[0m \u001B[32m━━━━━━━━━━━━━━━━━━━━\u001B[0m\u001B[37m\u001B[0m \u001B[1m37s\u001B[0m 1s/step - accuracy: 0.5333 - loss: 1.4424 - val_accuracy: 0.2807 - val_loss: 1.8102 - learning_rate: 1.0000e-05\n",
      "Epoch 16/35\n",
      "\u001B[1m28/28\u001B[0m \u001B[32m━━━━━━━━━━━━━━━━━━━━\u001B[0m\u001B[37m\u001B[0m \u001B[1m37s\u001B[0m 1s/step - accuracy: 0.5522 - loss: 1.4503 - val_accuracy: 0.2645 - val_loss: 1.8088 - learning_rate: 1.0000e-05\n",
      "Epoch 17/35\n",
      "\u001B[1m28/28\u001B[0m \u001B[32m━━━━━━━━━━━━━━━━━━━━\u001B[0m\u001B[37m\u001B[0m \u001B[1m37s\u001B[0m 1s/step - accuracy: 0.5396 - loss: 1.4144 - val_accuracy: 0.2715 - val_loss: 1.8071 - learning_rate: 1.0000e-05\n",
      "Epoch 18/35\n",
      "\u001B[1m28/28\u001B[0m \u001B[32m━━━━━━━━━━━━━━━━━━━━\u001B[0m\u001B[37m\u001B[0m \u001B[1m37s\u001B[0m 1s/step - accuracy: 0.5621 - loss: 1.4244 - val_accuracy: 0.2761 - val_loss: 1.8057 - learning_rate: 1.0000e-05\n",
      "Epoch 19/35\n",
      "\u001B[1m28/28\u001B[0m \u001B[32m━━━━━━━━━━━━━━━━━━━━\u001B[0m\u001B[37m\u001B[0m \u001B[1m37s\u001B[0m 1s/step - accuracy: 0.5362 - loss: 1.4093 - val_accuracy: 0.2715 - val_loss: 1.8041 - learning_rate: 1.0000e-05\n",
      "Epoch 20/35\n",
      "\u001B[1m28/28\u001B[0m \u001B[32m━━━━━━━━━━━━━━━━━━━━\u001B[0m\u001B[37m\u001B[0m \u001B[1m41s\u001B[0m 1s/step - accuracy: 0.5586 - loss: 1.3881 - val_accuracy: 0.2715 - val_loss: 1.8034 - learning_rate: 1.0000e-05\n",
      "Epoch 21/35\n",
      "\u001B[1m28/28\u001B[0m \u001B[32m━━━━━━━━━━━━━━━━━━━━\u001B[0m\u001B[37m\u001B[0m \u001B[1m38s\u001B[0m 1s/step - accuracy: 0.5741 - loss: 1.3881 - val_accuracy: 0.2761 - val_loss: 1.8022 - learning_rate: 1.0000e-05\n",
      "Epoch 22/35\n",
      "\u001B[1m28/28\u001B[0m \u001B[32m━━━━━━━━━━━━━━━━━━━━\u001B[0m\u001B[37m\u001B[0m \u001B[1m41s\u001B[0m 1s/step - accuracy: 0.5885 - loss: 1.3713 - val_accuracy: 0.2738 - val_loss: 1.8014 - learning_rate: 1.0000e-05\n",
      "Epoch 23/35\n",
      "\u001B[1m28/28\u001B[0m \u001B[32m━━━━━━━━━━━━━━━━━━━━\u001B[0m\u001B[37m\u001B[0m \u001B[1m38s\u001B[0m 1s/step - accuracy: 0.5800 - loss: 1.3857 - val_accuracy: 0.2761 - val_loss: 1.8002 - learning_rate: 1.0000e-05\n",
      "Epoch 24/35\n",
      "\u001B[1m28/28\u001B[0m \u001B[32m━━━━━━━━━━━━━━━━━━━━\u001B[0m\u001B[37m\u001B[0m \u001B[1m37s\u001B[0m 1s/step - accuracy: 0.5699 - loss: 1.3651 - val_accuracy: 0.2761 - val_loss: 1.7992 - learning_rate: 1.0000e-05\n",
      "Epoch 25/35\n",
      "\u001B[1m28/28\u001B[0m \u001B[32m━━━━━━━━━━━━━━━━━━━━\u001B[0m\u001B[37m\u001B[0m \u001B[1m37s\u001B[0m 1s/step - accuracy: 0.6082 - loss: 1.3374 - val_accuracy: 0.2761 - val_loss: 1.7978 - learning_rate: 1.0000e-05\n",
      "Epoch 26/35\n",
      "\u001B[1m28/28\u001B[0m \u001B[32m━━━━━━━━━━━━━━━━━━━━\u001B[0m\u001B[37m\u001B[0m \u001B[1m37s\u001B[0m 1s/step - accuracy: 0.6055 - loss: 1.3386 - val_accuracy: 0.2784 - val_loss: 1.7969 - learning_rate: 1.0000e-05\n",
      "Epoch 27/35\n",
      "\u001B[1m28/28\u001B[0m \u001B[32m━━━━━━━━━━━━━━━━━━━━\u001B[0m\u001B[37m\u001B[0m \u001B[1m37s\u001B[0m 1s/step - accuracy: 0.6220 - loss: 1.3289 - val_accuracy: 0.2831 - val_loss: 1.7959 - learning_rate: 1.0000e-05\n",
      "Epoch 28/35\n",
      "\u001B[1m28/28\u001B[0m \u001B[32m━━━━━━━━━━━━━━━━━━━━\u001B[0m\u001B[37m\u001B[0m \u001B[1m37s\u001B[0m 1s/step - accuracy: 0.6254 - loss: 1.3028 - val_accuracy: 0.2854 - val_loss: 1.7951 - learning_rate: 1.0000e-05\n",
      "Epoch 29/35\n",
      "\u001B[1m28/28\u001B[0m \u001B[32m━━━━━━━━━━━━━━━━━━━━\u001B[0m\u001B[37m\u001B[0m \u001B[1m37s\u001B[0m 1s/step - accuracy: 0.5758 - loss: 1.3175 - val_accuracy: 0.2807 - val_loss: 1.7942 - learning_rate: 1.0000e-05\n",
      "Epoch 30/35\n",
      "\u001B[1m28/28\u001B[0m \u001B[32m━━━━━━━━━━━━━━━━━━━━\u001B[0m\u001B[37m\u001B[0m \u001B[1m37s\u001B[0m 1s/step - accuracy: 0.6222 - loss: 1.2950 - val_accuracy: 0.2854 - val_loss: 1.7933 - learning_rate: 1.0000e-05\n",
      "Epoch 31/35\n",
      "\u001B[1m28/28\u001B[0m \u001B[32m━━━━━━━━━━━━━━━━━━━━\u001B[0m\u001B[37m\u001B[0m \u001B[1m37s\u001B[0m 1s/step - accuracy: 0.6152 - loss: 1.2742 - val_accuracy: 0.2877 - val_loss: 1.7926 - learning_rate: 1.0000e-05\n",
      "Epoch 32/35\n",
      "\u001B[1m28/28\u001B[0m \u001B[32m━━━━━━━━━━━━━━━━━━━━\u001B[0m\u001B[37m\u001B[0m \u001B[1m37s\u001B[0m 1s/step - accuracy: 0.6024 - loss: 1.2811 - val_accuracy: 0.2947 - val_loss: 1.7915 - learning_rate: 1.0000e-05\n",
      "Epoch 33/35\n",
      "\u001B[1m28/28\u001B[0m \u001B[32m━━━━━━━━━━━━━━━━━━━━\u001B[0m\u001B[37m\u001B[0m \u001B[1m37s\u001B[0m 1s/step - accuracy: 0.6600 - loss: 1.2442 - val_accuracy: 0.2947 - val_loss: 1.7912 - learning_rate: 1.0000e-05\n",
      "Epoch 34/35\n",
      "\u001B[1m28/28\u001B[0m \u001B[32m━━━━━━━━━━━━━━━━━━━━\u001B[0m\u001B[37m\u001B[0m \u001B[1m37s\u001B[0m 1s/step - accuracy: 0.6132 - loss: 1.2675 - val_accuracy: 0.2923 - val_loss: 1.7904 - learning_rate: 1.0000e-05\n",
      "Epoch 35/35\n",
      "\u001B[1m28/28\u001B[0m \u001B[32m━━━━━━━━━━━━━━━━━━━━\u001B[0m\u001B[37m\u001B[0m \u001B[1m37s\u001B[0m 1s/step - accuracy: 0.6521 - loss: 1.2388 - val_accuracy: 0.2970 - val_loss: 1.7898 - learning_rate: 1.0000e-05\n"
     ]
    }
   ],
   "source": [
    "# Fit the model\n",
    "history = model.fit(\n",
    "    train_generator,\n",
    "    epochs=35,\n",
    "    validation_data=valid_generator,\n",
    "    callbacks=[early_stopping, reduce_lr]\n",
    ")"
   ],
   "metadata": {
    "collapsed": false,
    "ExecuteTime": {
     "end_time": "2024-07-03T02:14:43.458916700Z",
     "start_time": "2024-07-03T01:52:51.791785300Z"
    }
   },
   "id": "80e42e7ff99bf0cf"
  },
  {
   "cell_type": "code",
   "execution_count": 61,
   "outputs": [
    {
     "name": "stdout",
     "output_type": "stream",
     "text": [
      "\u001B[1m26/26\u001B[0m \u001B[32m━━━━━━━━━━━━━━━━━━━━\u001B[0m\u001B[37m\u001B[0m \u001B[1m23s\u001B[0m 842ms/step\n",
      "F1 Score: 0.2791141293915338\n",
      "\u001B[1m26/26\u001B[0m \u001B[32m━━━━━━━━━━━━━━━━━━━━\u001B[0m\u001B[37m\u001B[0m \u001B[1m21s\u001B[0m 807ms/step - accuracy: 0.3214 - loss: 1.9845\n",
      "loss: 1.9248682260513306\n",
      "compile_metrics: 0.2662576735019684\n",
      "              precision    recall  f1-score   support\n",
      "\n",
      "       Angry       0.08      0.68      0.14        47\n",
      "     Disgust       0.00      0.00      0.00        65\n",
      "        Fear       0.22      0.11      0.14        76\n",
      "       Happy       0.68      0.52      0.59       281\n",
      "     Neutral       0.39      0.15      0.22       200\n",
      "         Sad       0.00      0.00      0.00        57\n",
      "    Surprise       0.00      0.00      0.00        89\n",
      "\n",
      "    accuracy                           0.27       815\n",
      "   macro avg       0.20      0.21      0.16       815\n",
      "weighted avg       0.36      0.27      0.28       815\n"
     ]
    },
    {
     "name": "stderr",
     "output_type": "stream",
     "text": [
      "C:\\Users\\chena\\AppData\\Local\\Packages\\PythonSoftwareFoundation.Python.3.11_qbz5n2kfra8p0\\LocalCache\\local-packages\\Python311\\site-packages\\sklearn\\metrics\\_classification.py:1469: UndefinedMetricWarning: Precision and F-score are ill-defined and being set to 0.0 in labels with no predicted samples. Use `zero_division` parameter to control this behavior.\n",
      "  _warn_prf(average, modifier, msg_start, len(result))\n",
      "C:\\Users\\chena\\AppData\\Local\\Packages\\PythonSoftwareFoundation.Python.3.11_qbz5n2kfra8p0\\LocalCache\\local-packages\\Python311\\site-packages\\sklearn\\metrics\\_classification.py:1469: UndefinedMetricWarning: Precision and F-score are ill-defined and being set to 0.0 in labels with no predicted samples. Use `zero_division` parameter to control this behavior.\n",
      "  _warn_prf(average, modifier, msg_start, len(result))\n",
      "C:\\Users\\chena\\AppData\\Local\\Packages\\PythonSoftwareFoundation.Python.3.11_qbz5n2kfra8p0\\LocalCache\\local-packages\\Python311\\site-packages\\sklearn\\metrics\\_classification.py:1469: UndefinedMetricWarning: Precision and F-score are ill-defined and being set to 0.0 in labels with no predicted samples. Use `zero_division` parameter to control this behavior.\n",
      "  _warn_prf(average, modifier, msg_start, len(result))\n"
     ]
    },
    {
     "data": {
      "text/plain": "<Axes: >"
     },
     "execution_count": 61,
     "metadata": {},
     "output_type": "execute_result"
    },
    {
     "data": {
      "text/plain": "<Figure size 1200x900 with 2 Axes>",
      "image/png": "[encoded data removed]"
     },
     "metadata": {},
     "output_type": "display_data"
    }
   ],
   "source": [
    "# import seaborn as sns\n",
    "from sklearn.metrics import f1_score, classification_report, confusion_matrix\n",
    "import matplotlib.pyplot as plt\n",
    "\n",
    "test_labels = test_generator.classes\n",
    "test_pred_probs = model.predict(test_generator)\n",
    "test_preds = np.argmax(test_pred_probs, axis=1)\n",
    "\n",
    "# Compute the F1 score\n",
    "f1 = f1_score(test_labels, test_preds, average='weighted')\n",
    "print(f'F1 Score: {f1}')\n",
    "\n",
    "# Evaluate the model on the test set\n",
    "results = model.evaluate(test_generator)\n",
    "\n",
    "# Print all the metrics\n",
    "for name, value in zip(model.metrics_names, results):\n",
    "    print(f'{name}: {value}')\n",
    "\n",
    "# Print classification report\n",
    "print(classification_report(test_labels, test_preds, target_names=valid_generator.class_indices.keys()))\n",
    "\n",
    "# Print confusion matrix\n",
    "cm = confusion_matrix(test_labels, test_preds)\n",
    "df_cm = pd.DataFrame(cm, index=[i for i in emotions], columns=[i for i in emotions])\n",
    "plt.figure(figsize=(12, 9))\n",
    "plt.xlabel('Actual')\n",
    "plt.ylabel('Predicted')\n",
    "sns.heatmap(df_cm, annot=True, fmt='g')"
   ],
   "metadata": {
    "collapsed": false,
    "ExecuteTime": {
     "end_time": "2024-07-03T02:15:27.859677300Z",
     "start_time": "2024-07-03T02:14:43.459414200Z"
    }
   },
   "id": "a43e5ec1f49cfdf9"
  },
  {
   "cell_type": "code",
   "execution_count": 62,
   "outputs": [
    {
     "name": "stdout",
     "output_type": "stream",
     "text": [
      "\u001B[1m26/26\u001B[0m \u001B[32m━━━━━━━━━━━━━━━━━━━━\u001B[0m\u001B[37m\u001B[0m \u001B[1m21s\u001B[0m 817ms/step\n",
      "Size of group: 163\n",
      "Size of group: 588\n",
      "Size of group: 64\n",
      "Accuracy for B: 41.10\n",
      "Accuracy for W: 22.28\n",
      "Accuracy for M: 29.69\n"
     ]
    }
   ],
   "source": [
    "import numpy as np\n",
    "\n",
    "# Get predictions on the test set\n",
    "test_generator.reset()\n",
    "predictions = model.predict(test_generator, verbose=1)\n",
    "predicted_classes = np.argmax(predictions, axis=1)\n",
    "true_classes = test_generator.classes\n",
    "class_labels = list(test_generator.class_indices.keys())\n",
    "\n",
    "# Create a DataFrame for the test results\n",
    "test_df['predicted'] = predicted_classes\n",
    "test_df['true'] = true_classes\n",
    "\n",
    "# Calculate accuracy for each ethnic group\n",
    "represented_races = ['B', 'W', 'M']\n",
    "ethnic_results = {}\n",
    "# \n",
    "for group in represented_races:\n",
    "    group_df = test_df[test_df['Skin_tone'] == group]\n",
    "    print(f'Size of group: {len(group_df)}')\n",
    "    correct_predictions = np.sum(group_df['predicted'] == group_df['true'])\n",
    "    incorrect_predictions = len(group_df) - correct_predictions\n",
    "    ethnic_results[group] = correct_predictions / (correct_predictions + incorrect_predictions) * 100\n",
    "    \n",
    "# Display the accuracy for each ethnic group\n",
    "for group, accuracy in ethnic_results.items():\n",
    "    print(f'Accuracy for {group}: {accuracy:.2f}')"
   ],
   "metadata": {
    "collapsed": false,
    "ExecuteTime": {
     "end_time": "2024-07-03T02:15:49.257411700Z",
     "start_time": "2024-07-03T02:15:27.856678300Z"
    }
   },
   "id": "c5ea615ec9e8612a"
  },
  {
   "cell_type": "code",
   "execution_count": 63,
   "outputs": [
    {
     "data": {
      "text/plain": "                                                  path   emotion Skin_tone  \\\n4    C:\\Users\\chena\\Desktop\\ResearchProject\\EiLA/Pr...     Angry         W   \n5    C:\\Users\\chena\\Desktop\\ResearchProject\\EiLA/Pr...     Angry         W   \n6    C:\\Users\\chena\\Desktop\\ResearchProject\\EiLA/Pr...     Angry         W   \n7    C:\\Users\\chena\\Desktop\\ResearchProject\\EiLA/Pr...     Angry         W   \n21   C:\\Users\\chena\\Desktop\\ResearchProject\\EiLA/Pr...     Angry         W   \n..                                                 ...       ...       ...   \n810  C:\\Users\\chena\\Desktop\\ResearchProject\\EiLA/Pr...  Surprise         W   \n811  C:\\Users\\chena\\Desktop\\ResearchProject\\EiLA/Pr...  Surprise         W   \n812  C:\\Users\\chena\\Desktop\\ResearchProject\\EiLA/Pr...  Surprise         W   \n813  C:\\Users\\chena\\Desktop\\ResearchProject\\EiLA/Pr...  Surprise         W   \n814  C:\\Users\\chena\\Desktop\\ResearchProject\\EiLA/Pr...  Surprise         W   \n\n     predicted  true  \n4            3     0  \n5            3     0  \n6            3     0  \n7            3     0  \n21           3     0  \n..         ...   ...  \n810          0     6  \n811          0     6  \n812          0     6  \n813          0     6  \n814          3     6  \n\n[598 rows x 5 columns]",
      "text/html": "<div>\n<style scoped>\n    .dataframe tbody tr th:only-of-type {\n        vertical-align: middle;\n    }\n\n    .dataframe tbody tr th {\n        vertical-align: top;\n    }\n\n    .dataframe thead th {\n        text-align: right;\n    }\n</style>\n<table border=\"1\" class=\"dataframe\">\n  <thead>\n    <tr style=\"text-align: right;\">\n      <th></th>\n      <th>path</th>\n      <th>emotion</th>\n      <th>Skin_tone</th>\n      <th>predicted</th>\n      <th>true</th>\n    </tr>\n  </thead>\n  <tbody>\n    <tr>\n      <th>4</th>\n      <td>C:\\Users\\chena\\Desktop\\ResearchProject\\EiLA/Pr...</td>\n      <td>Angry</td>\n      <td>W</td>\n      <td>3</td>\n      <td>0</td>\n    </tr>\n    <tr>\n      <th>5</th>\n      <td>C:\\Users\\chena\\Desktop\\ResearchProject\\EiLA/Pr...</td>\n      <td>Angry</td>\n      <td>W</td>\n      <td>3</td>\n      <td>0</td>\n    </tr>\n    <tr>\n      <th>6</th>\n      <td>C:\\Users\\chena\\Desktop\\ResearchProject\\EiLA/Pr...</td>\n      <td>Angry</td>\n      <td>W</td>\n      <td>3</td>\n      <td>0</td>\n    </tr>\n    <tr>\n      <th>7</th>\n      <td>C:\\Users\\chena\\Desktop\\ResearchProject\\EiLA/Pr...</td>\n      <td>Angry</td>\n      <td>W</td>\n      <td>3</td>\n      <td>0</td>\n    </tr>\n    <tr>\n      <th>21</th>\n      <td>C:\\Users\\chena\\Desktop\\ResearchProject\\EiLA/Pr...</td>\n      <td>Angry</td>\n      <td>W</td>\n      <td>3</td>\n      <td>0</td>\n    </tr>\n    <tr>\n      <th>...</th>\n      <td>...</td>\n      <td>...</td>\n      <td>...</td>\n      <td>...</td>\n      <td>...</td>\n    </tr>\n    <tr>\n      <th>810</th>\n      <td>C:\\Users\\chena\\Desktop\\ResearchProject\\EiLA/Pr...</td>\n      <td>Surprise</td>\n      <td>W</td>\n      <td>0</td>\n      <td>6</td>\n    </tr>\n    <tr>\n      <th>811</th>\n      <td>C:\\Users\\chena\\Desktop\\ResearchProject\\EiLA/Pr...</td>\n      <td>Surprise</td>\n      <td>W</td>\n      <td>0</td>\n      <td>6</td>\n    </tr>\n    <tr>\n      <th>812</th>\n      <td>C:\\Users\\chena\\Desktop\\ResearchProject\\EiLA/Pr...</td>\n      <td>Surprise</td>\n      <td>W</td>\n      <td>0</td>\n      <td>6</td>\n    </tr>\n    <tr>\n      <th>813</th>\n      <td>C:\\Users\\chena\\Desktop\\ResearchProject\\EiLA/Pr...</td>\n      <td>Surprise</td>\n      <td>W</td>\n      <td>0</td>\n      <td>6</td>\n    </tr>\n    <tr>\n      <th>814</th>\n      <td>C:\\Users\\chena\\Desktop\\ResearchProject\\EiLA/Pr...</td>\n      <td>Surprise</td>\n      <td>W</td>\n      <td>3</td>\n      <td>6</td>\n    </tr>\n  </tbody>\n</table>\n<p>598 rows × 5 columns</p>\n</div>"
     },
     "execution_count": 63,
     "metadata": {},
     "output_type": "execute_result"
    }
   ],
   "source": [
    "correct_df = test_df[test_df['predicted'] == test_df['true']]\n",
    "correct_df\n",
    "\n",
    "incorrect_df = test_df[test_df['predicted'] != test_df['true']]\n",
    "incorrect_df"
   ],
   "metadata": {
    "collapsed": false,
    "ExecuteTime": {
     "end_time": "2024-07-03T02:15:49.262608200Z",
     "start_time": "2024-07-03T02:15:49.252811600Z"
    }
   },
   "id": "a717330bab9a63f5"
  },
  {
   "cell_type": "code",
   "execution_count": 64,
   "outputs": [
    {
     "name": "stdout",
     "output_type": "stream",
     "text": [
      "C:\\Users\\chena\\Desktop\\ResearchProject\\Experiment_Output/SFEW\\SFEW_correct.csv\n"
     ]
    }
   ],
   "source": [
    "experiment_name = paths[experiment][0].split('/')[0]\n",
    "\n",
    "if 'FER2013' in experiment_name:\n",
    "    experiment_group = 'FER2013'\n",
    "else:\n",
    "    experiment_group = 'SFEW'\n",
    "    \n",
    "print(os.path.join(grandparent_dir, 'Experiment_Output/' + experiment_group, paths[experiment][0].split('/')[0] + '_correct.csv'))\n",
    "correct_df.to_csv(os.path.join(grandparent_dir, 'Experiment_Output/' + experiment_group, paths[experiment][0].split('/')[0] + '_correct.csv'), sep=',', index=False, encoding='utf-8', na_rep='N/A')\n",
    "incorrect_df.to_csv(os.path.join(grandparent_dir, 'Experiment_Output/' + experiment_group, paths[experiment][0].split('/')[0] + '_incorrect.csv'), sep=',', index=False, encoding='utf-8', na_rep='N/A')"
   ],
   "metadata": {
    "collapsed": false,
    "ExecuteTime": {
     "end_time": "2024-07-03T02:15:49.293183800Z",
     "start_time": "2024-07-03T02:15:49.264657500Z"
    }
   },
   "id": "78b6523555706911"
  }
 ],
 "metadata": {
  "kernelspec": {
   "display_name": "Python 3",
   "language": "python",
   "name": "python3"
  },
  "language_info": {
   "codemirror_mode": {
    "name": "ipython",
    "version": 2
   },
   "file_extension": ".py",
   "mimetype": "text/x-python",
   "name": "python",
   "nbconvert_exporter": "python",
   "pygments_lexer": "ipython2",
   "version": "2.7.6"
  }
 },
 "nbformat": 4,
 "nbformat_minor": 5
}
