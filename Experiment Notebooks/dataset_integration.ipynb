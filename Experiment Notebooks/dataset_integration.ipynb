{
 "cells": [
  {
   "cell_type": "code",
   "execution_count": 12,
   "id": "initial_id",
   "metadata": {
    "collapsed": true,
    "ExecuteTime": {
     "end_time": "2024-07-02T23:06:03.625936200Z",
     "start_time": "2024-07-02T22:57:37.702711500Z"
    }
   },
   "outputs": [
    {
     "name": "stdout",
     "output_type": "stream",
     "text": [
      "Dataset FER2013+10%EiLA integration complete.\n",
      "Dataset FER2013+30%EiLA integration complete.\n",
      "Dataset FER2013+50%EiLA integration complete.\n",
      "Dataset FER2013+100%EiLA integration complete.\n",
      "Dataset SFEW+10%EiLA integration complete.\n",
      "Dataset SFEW+30%EiLA integration complete.\n",
      "Dataset SFEW+50%EiLA integration complete.\n",
      "Dataset SFEW+100%EiLA integration complete.\n",
      "All dataset integration complete.\n"
     ]
    }
   ],
   "source": [
    "import random\n",
    "import os\n",
    "import shutil\n",
    "\n",
    "# Paths to the datasets\n",
    "FER_train_path = 'Experiment_Datasets/FER2013/train_FER2013'\n",
    "FER_val_path = 'Experiment_Datasets/FER2013/validation_FER2013'\n",
    "SFEW_train_path = 'Experiment_Datasets/SFEW/Train_Aligned_Faces'\n",
    "SFEW_val_path = 'Experiment_Datasets/SFEW/Val_Aligned_Faces_new'\n",
    "EiLA_train_path = 'EiLA/Preprocessing/2.Resized_image/EiLA_train'\n",
    "EiLA_val_path = 'EiLA/Preprocessing/2.Resized_image/EiLA_validation'\n",
    "EiLA_test_path = 'EiLA/EiLA_test'\n",
    "current_dir = os.getcwd()\n",
    "parent_dir = os.path.dirname(current_directory)\n",
    "datasets_dir = os.path.join(parent_dir, 'Experiment_Datasets')\n",
    "\n",
    "# 1. train path, 2. validation path, 3. portion of EiLA to be integrated (max 1), type of dataset (FER or SFEW)\n",
    "datasets = [['FER2013+10%EiLA/train', 'FER2013+10%EiLA/validation', 0.1, 'FER'], ['FER2013+30%EiLA/train', 'FER2013+30%EiLA/validation', 0.3, 'FER'], ['FER2013+50%EiLA/train', 'FER2013+50%EiLA/validation', 0.5, 'FER'],['FER2013+100%EiLA/train', 'FER2013+100%EiLA/validation', 1.0, 'FER'], ['SFEW+10%EiLA/train', 'SFEW+10%EiLA/validation', 0.1, 'SFEW'], ['SFEW+30%EiLA/train', 'SFEW+30%EiLA/validation', 0.3, 'SFEW'], ['SFEW+50%EiLA/train', 'SFEW+50%EiLA/validation', 0.5, 'SFEW'], ['SFEW+100%EiLA/train', 'SFEW+100%EiLA/validation', 1.0, 'SFEW']]\n",
    "\n",
    "for dataset in datasets:\n",
    "    combined_train_path = os.path.join(datasets_dir, dataset[0])\n",
    "    combined_val_path = os.path.join(datasets_dir, dataset[1])\n",
    "    if not os.path.exists(combined_train_path):\n",
    "        os.makedirs(combined_train_path)\n",
    "        \n",
    "    if not os.path.exists(combined_val_path):\n",
    "        os.makedirs(combined_val_path)\n",
    "        \n",
    "    if dataset[3] == 'FER':\n",
    "        train_path = os.path.join(parent_dir, FER_train_path)\n",
    "        val_path = os.path.join(parent_dir, FER_val_path)\n",
    "    else:\n",
    "        train_path = os.path.join(parent_dir, SFEW_train_path)\n",
    "        val_path = os.path.join(parent_dir, SFEW_val_path)\n",
    "        \n",
    "    # copy over either the FER2013 or SFEW dataset to target experiment dataset directory    \n",
    "    for label in os.listdir(train_path):\n",
    "        if not os.path.exists(os.path.join(combined_train_path, label)):\n",
    "            os.makedirs(os.path.join(combined_train_path, label))\n",
    "        if not os.path.exists(os.path.join(combined_val_path, label)):\n",
    "            os.makedirs(os.path.join(combined_val_path, label))    \n",
    "        for file in os.listdir(os.path.join(train_path, label)):\n",
    "            if not os.path.exists(os.path.join(combined_train_path, label, file)):\n",
    "                shutil.copy(os.path.join(train_path, label, file), os.path.join(combined_train_path, label, file))          \n",
    "        for file in os.listdir(os.path.join(val_path, label)):\n",
    "            if not os.path.exists(os.path.join(combined_val_path, label, file)):\n",
    "                shutil.copy(os.path.join(val_path, label, file), os.path.join(combined_val_path, label, file))\n",
    "    \n",
    "        EiLA_train_set = os.listdir(os.path.join(parent_dir, EiLA_train_path, label))\n",
    "        EiLA_val_set = os.listdir(os.path.join(parent_dir, EiLA_val_path, label))\n",
    "        EiLA_train_selection = random.sample(EiLA_train_set, int(len(EiLA_train_set) * dataset[2])) # Randomly select a portion of the EiLA training set\n",
    "        EiLA_val_selection = random.sample(EiLA_val_set, int(len(EiLA_val_set) * dataset[2])) # same as above but for validation set\n",
    "        \n",
    "        # add on selected portion of EiLA to target experiment dataset directory\n",
    "        for file in EiLA_train_selection:\n",
    "            if not os.path.exists(os.path.join(combined_train_path, label, file)):\n",
    "                shutil.copy(os.path.join(parent_dir, EiLA_train_path, label, file), os.path.join(combined_train_path, label, file)) \n",
    "        for file in EiLA_val_selection:\n",
    "            if not os.path.exists(os.path.join(combined_val_path, label, file)):\n",
    "                shutil.copy(os.path.join(parent_dir, EiLA_val_path, label, file), os.path.join(combined_val_path, label, file))\n",
    "    print('Dataset ' + dataset[0].split('/')[0] + ' integration complete.')\n",
    "print('All dataset integrations complete.')"
   ]
  }
 ],
 "metadata": {
  "kernelspec": {
   "display_name": "Python 3",
   "language": "python",
   "name": "python3"
  },
  "language_info": {
   "codemirror_mode": {
    "name": "ipython",
    "version": 2
   },
   "file_extension": ".py",
   "mimetype": "text/x-python",
   "name": "python",
   "nbconvert_exporter": "python",
   "pygments_lexer": "ipython2",
   "version": "2.7.6"
  }
 },
 "nbformat": 4,
 "nbformat_minor": 5
}
