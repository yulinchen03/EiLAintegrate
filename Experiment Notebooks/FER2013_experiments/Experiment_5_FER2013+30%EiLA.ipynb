{
 "cells": [
  {
   "cell_type": "code",
   "execution_count": 3,
   "outputs": [],
   "source": [
    "import os\n",
    "import pandas as pd\n",
    "from tensorflow.keras.preprocessing.image import ImageDataGenerator\n",
    "import seaborn as sns\n",
    "\n",
    "paths = [['FER2013/train_FER2013', 'FER2013/validation_FER2013'], ['EiLA/EiLA_train', 'EiLA/EiLA_validation'], ['SFEW/Processed_Train_Faces', 'SFEW/Processed_Validation_Faces'], ['FER2013+10%EiLA/train', 'FER2013+10%EiLA/validation'], ['FER2013+30%EiLA/train', 'FER2013+30%EiLA/validation'], ['FER2013+50%EiLA/train', 'FER2013+50%EiLA/validation'],['FER2013+100%EiLA/train', 'FER2013+100%EiLA/validation'], ['SFEW+10%EiLA/train', 'SFEW+10%EiLA/validation'], ['SFEW+30%EiLA/train', 'SFEW+30%EiLA/validation'], ['SFEW+50%EiLA/train', 'SFEW+50%EiLA/validation'], ['SFEW+100%EiLA/train', 'SFEW+100%EiLA/validation']]\n",
    "current_dir = os.getcwd()\n",
    "parent_dir = os.path.dirname(current_dir)\n",
    "grandparent_dir = os.path.dirname(parent_dir)\n",
    "\n",
    "# Load the demographics spreadsheet\n",
    "demographics_df = pd.read_csv(os.path.join(grandparent_dir, 'EiLA/Extra/demographics.csv'))"
   ],
   "metadata": {
    "collapsed": false,
    "ExecuteTime": {
     "end_time": "2024-07-02T23:53:33.333282500Z",
     "start_time": "2024-07-02T23:53:33.326732700Z"
    }
   },
   "id": "97c57173e455f6b2"
  },
  {
   "cell_type": "code",
   "execution_count": 4,
   "outputs": [
    {
     "name": "stdout",
     "output_type": "stream",
     "text": [
      "C:\\Users\\chena\\Desktop\\ResearchProject\\Experiment_Datasets\\FER2013+30%EiLA/train\n",
      "C:\\Users\\chena\\Desktop\\ResearchProject\\Experiment_Datasets\\FER2013+30%EiLA/validation\n"
     ]
    }
   ],
   "source": [
    "import shutil\n",
    "\n",
    "experiment = 4\n",
    "train_dir = os.path.join(grandparent_dir, 'Experiment_Datasets', paths[experiment][0]) # select training dataset for this experiment\n",
    "validation_dir = os.path.join(grandparent_dir, 'Experiment_Datasets', paths[experiment][1])  # select validation dataset for this experiment\n",
    "test_dir = os.path.join(grandparent_dir, 'EiLA/Preprocessing/2.Resized_image/EiLA_test') # same for all experiments\n",
    "\n",
    "print(train_dir)\n",
    "print(validation_dir)\n",
    "\n",
    "valid_emotions = ['Angry', 'Disgust', 'Fear', 'Happy', 'Neutral', 'Sad', 'Surprise']\n",
    "\n",
    "emotions = os.listdir(train_dir)\n",
    "\n",
    "def clean_directory(directory, valid_emotions):\n",
    "    for item in os.listdir(directory):\n",
    "        item_path = os.path.join(directory, item)\n",
    "        if os.path.isdir(item_path) and item not in valid_emotions:\n",
    "            shutil.rmtree(item_path)  # Remove invalid directories (e.g ipynb_checkpoints)\n",
    "            \n",
    "clean_directory(train_dir, valid_emotions)\n",
    "clean_directory(validation_dir, valid_emotions)\n",
    "clean_directory(test_dir, valid_emotions)"
   ],
   "metadata": {
    "collapsed": false,
    "ExecuteTime": {
     "end_time": "2024-07-02T23:53:33.488070800Z",
     "start_time": "2024-07-02T23:53:33.481132100Z"
    }
   },
   "id": "f6ca25f6313ed9e3"
  },
  {
   "cell_type": "code",
   "execution_count": 5,
   "outputs": [
    {
     "name": "stdout",
     "output_type": "stream",
     "text": [
      "Training set counts: defaultdict(<class 'int'>, {'Angry': 4278, 'Disgust': 464, 'Fear': 4119, 'Happy': 7530, 'Neutral': 5719, 'Sad': 4866, 'Surprise': 3184})\n",
      "Validation set counts: defaultdict(<class 'int'>, {'Angry': 993, 'Disgust': 124, 'Fear': 1055, 'Happy': 1945, 'Neutral': 1352, 'Sad': 1257, 'Surprise': 858})\n"
     ]
    }
   ],
   "source": [
    "from collections import defaultdict\n",
    "\n",
    "def count_images(directory, valid_emotions):\n",
    "    count = defaultdict(int)\n",
    "    for emotion in valid_emotions:\n",
    "        emotion_dir = os.path.join(directory, emotion)\n",
    "        if os.path.isdir(emotion_dir):\n",
    "            count[emotion] = len(os.listdir(emotion_dir))\n",
    "    return count\n",
    "\n",
    "train_counts = count_images(train_dir, valid_emotions)\n",
    "valid_counts = count_images(validation_dir, valid_emotions)\n",
    "\n",
    "print(\"Training set counts:\", train_counts)\n",
    "print(\"Validation set counts:\", valid_counts)"
   ],
   "metadata": {
    "collapsed": false,
    "ExecuteTime": {
     "end_time": "2024-07-02T23:53:33.692345900Z",
     "start_time": "2024-07-02T23:53:33.628993700Z"
    }
   },
   "id": "5405a8f186f4edf9"
  },
  {
   "cell_type": "code",
   "execution_count": 6,
   "outputs": [
    {
     "name": "stdout",
     "output_type": "stream",
     "text": [
      "Found 30160 images belonging to 7 classes.\n",
      "Found 7584 images belonging to 7 classes.\n",
      "Found 815 validated image filenames belonging to 7 classes.\n"
     ]
    }
   ],
   "source": [
    "from tensorflow.keras.preprocessing.image import ImageDataGenerator, img_to_array, load_img\n",
    "from tensorflow.keras.applications.resnet_v2 import preprocess_input\n",
    "import numpy as np\n",
    "\n",
    "# Create a DataFrame to hold image paths and corresponding labels and demographics\n",
    "def create_test_dataframe(data_dir, demographics_df):\n",
    "    data = []\n",
    "    for emotion in valid_emotions:\n",
    "        emotion_dir = os.path.join(data_dir, emotion)\n",
    "        if os.path.isdir(emotion_dir):\n",
    "            for img_name in os.listdir(emotion_dir):\n",
    "                img_path = os.path.join(emotion_dir, img_name)\n",
    "                # Extract demographic information from file name\n",
    "                id = img_name.split('.')[0].split('video_')[0].split('_label_')[0]\n",
    "                label = img_name.split('.')[0].split('video_')[0].split('_label_')[1].split('_')[0]\n",
    "                video_tag = img_name.split('.')[0].split('video_')[1].split('_clip_')[0]\n",
    "                clip_id = int(img_name.split('.')[0].split('video_')[1].split('_clip_')[1].split('_person_')[0])\n",
    "                person_id = int(img_name.split('.')[0].split('video_')[1].split('_clip_')[1].split('_person_')[1])       \n",
    "                \n",
    "                # Find the corresponding row in the demographics DataFrame\n",
    "                demo_info = demographics_df[(demographics_df['Video Tag'] == video_tag) &\n",
    "                                           (demographics_df['Clip Id'] == clip_id) &\n",
    "                                           (demographics_df['Person Id'] == person_id)]\n",
    "                if not demo_info.empty:\n",
    "                    perceived_race = demo_info.iloc[0]['Perceived Race']\n",
    "                    data.append((img_path, emotion, perceived_race))\n",
    "    return pd.DataFrame(data, columns=['path', 'emotion', 'Skin_tone'])\n",
    "\n",
    "\n",
    "datagen = ImageDataGenerator(preprocessing_function=preprocess_input)\n",
    "\n",
    "test_df = create_test_dataframe(test_dir, demographics_df)\n",
    "\n",
    "train_generator = datagen.flow_from_directory(\n",
    "    train_dir,\n",
    "    target_size=(224, 224),\n",
    "    batch_size=32,\n",
    "    class_mode='categorical',\n",
    "    shuffle=True,\n",
    "    color_mode='rgb'\n",
    ")\n",
    "\n",
    "valid_generator = datagen.flow_from_directory(\n",
    "    validation_dir,\n",
    "    target_size=(224, 224),\n",
    "    batch_size=32,\n",
    "    class_mode='categorical',\n",
    "    shuffle=True,\n",
    "    color_mode='rgb'\n",
    ")\n",
    "\n",
    "test_generator = datagen.flow_from_dataframe(\n",
    "    test_df,\n",
    "    x_col='path', \n",
    "    y_col='emotion',\n",
    "    target_size=(224, 224),\n",
    "    batch_size=32,\n",
    "    class_mode='categorical',\n",
    "    shuffle=False,\n",
    "    color_mode='rgb'\n",
    ")"
   ],
   "metadata": {
    "collapsed": false,
    "ExecuteTime": {
     "end_time": "2024-07-02T23:53:34.823992800Z",
     "start_time": "2024-07-02T23:53:33.828110700Z"
    }
   },
   "id": "e5b52f7efc2dcd37"
  },
  {
   "cell_type": "code",
   "execution_count": 7,
   "outputs": [
    {
     "data": {
      "text/plain": "                                                  path   emotion Skin_tone\n0    C:\\Users\\chena\\Desktop\\ResearchProject\\EiLA/Pr...     Angry         W\n1    C:\\Users\\chena\\Desktop\\ResearchProject\\EiLA/Pr...     Angry         W\n2    C:\\Users\\chena\\Desktop\\ResearchProject\\EiLA/Pr...     Angry         W\n3    C:\\Users\\chena\\Desktop\\ResearchProject\\EiLA/Pr...     Angry         W\n4    C:\\Users\\chena\\Desktop\\ResearchProject\\EiLA/Pr...     Angry         W\n..                                                 ...       ...       ...\n810  C:\\Users\\chena\\Desktop\\ResearchProject\\EiLA/Pr...  Surprise         W\n811  C:\\Users\\chena\\Desktop\\ResearchProject\\EiLA/Pr...  Surprise         W\n812  C:\\Users\\chena\\Desktop\\ResearchProject\\EiLA/Pr...  Surprise         W\n813  C:\\Users\\chena\\Desktop\\ResearchProject\\EiLA/Pr...  Surprise         W\n814  C:\\Users\\chena\\Desktop\\ResearchProject\\EiLA/Pr...  Surprise         W\n\n[815 rows x 3 columns]",
      "text/html": "<div>\n<style scoped>\n    .dataframe tbody tr th:only-of-type {\n        vertical-align: middle;\n    }\n\n    .dataframe tbody tr th {\n        vertical-align: top;\n    }\n\n    .dataframe thead th {\n        text-align: right;\n    }\n</style>\n<table border=\"1\" class=\"dataframe\">\n  <thead>\n    <tr style=\"text-align: right;\">\n      <th></th>\n      <th>path</th>\n      <th>emotion</th>\n      <th>Skin_tone</th>\n    </tr>\n  </thead>\n  <tbody>\n    <tr>\n      <th>0</th>\n      <td>C:\\Users\\chena\\Desktop\\ResearchProject\\EiLA/Pr...</td>\n      <td>Angry</td>\n      <td>W</td>\n    </tr>\n    <tr>\n      <th>1</th>\n      <td>C:\\Users\\chena\\Desktop\\ResearchProject\\EiLA/Pr...</td>\n      <td>Angry</td>\n      <td>W</td>\n    </tr>\n    <tr>\n      <th>2</th>\n      <td>C:\\Users\\chena\\Desktop\\ResearchProject\\EiLA/Pr...</td>\n      <td>Angry</td>\n      <td>W</td>\n    </tr>\n    <tr>\n      <th>3</th>\n      <td>C:\\Users\\chena\\Desktop\\ResearchProject\\EiLA/Pr...</td>\n      <td>Angry</td>\n      <td>W</td>\n    </tr>\n    <tr>\n      <th>4</th>\n      <td>C:\\Users\\chena\\Desktop\\ResearchProject\\EiLA/Pr...</td>\n      <td>Angry</td>\n      <td>W</td>\n    </tr>\n    <tr>\n      <th>...</th>\n      <td>...</td>\n      <td>...</td>\n      <td>...</td>\n    </tr>\n    <tr>\n      <th>810</th>\n      <td>C:\\Users\\chena\\Desktop\\ResearchProject\\EiLA/Pr...</td>\n      <td>Surprise</td>\n      <td>W</td>\n    </tr>\n    <tr>\n      <th>811</th>\n      <td>C:\\Users\\chena\\Desktop\\ResearchProject\\EiLA/Pr...</td>\n      <td>Surprise</td>\n      <td>W</td>\n    </tr>\n    <tr>\n      <th>812</th>\n      <td>C:\\Users\\chena\\Desktop\\ResearchProject\\EiLA/Pr...</td>\n      <td>Surprise</td>\n      <td>W</td>\n    </tr>\n    <tr>\n      <th>813</th>\n      <td>C:\\Users\\chena\\Desktop\\ResearchProject\\EiLA/Pr...</td>\n      <td>Surprise</td>\n      <td>W</td>\n    </tr>\n    <tr>\n      <th>814</th>\n      <td>C:\\Users\\chena\\Desktop\\ResearchProject\\EiLA/Pr...</td>\n      <td>Surprise</td>\n      <td>W</td>\n    </tr>\n  </tbody>\n</table>\n<p>815 rows × 3 columns</p>\n</div>"
     },
     "execution_count": 7,
     "metadata": {},
     "output_type": "execute_result"
    }
   ],
   "source": [
    "# test_df = create_test_dataframe('EiLA/EiLA_test', demographics_df)\n",
    "test_df"
   ],
   "metadata": {
    "collapsed": false,
    "ExecuteTime": {
     "end_time": "2024-07-02T23:56:59.170168800Z",
     "start_time": "2024-07-02T23:56:59.157106700Z"
    }
   },
   "id": "662ea0fd0b07a846"
  },
  {
   "cell_type": "code",
   "execution_count": 8,
   "outputs": [
    {
     "name": "stderr",
     "output_type": "stream",
     "text": [
      "C:\\Users\\chena\\AppData\\Local\\Packages\\PythonSoftwareFoundation.Python.3.11_qbz5n2kfra8p0\\LocalCache\\local-packages\\Python311\\site-packages\\seaborn\\_oldcore.py:1498: FutureWarning: is_categorical_dtype is deprecated and will be removed in a future version. Use isinstance(dtype, CategoricalDtype) instead\n",
      "  if pd.api.types.is_categorical_dtype(vector):\n",
      "C:\\Users\\chena\\AppData\\Local\\Packages\\PythonSoftwareFoundation.Python.3.11_qbz5n2kfra8p0\\LocalCache\\local-packages\\Python311\\site-packages\\seaborn\\_oldcore.py:1498: FutureWarning: is_categorical_dtype is deprecated and will be removed in a future version. Use isinstance(dtype, CategoricalDtype) instead\n",
      "  if pd.api.types.is_categorical_dtype(vector):\n",
      "C:\\Users\\chena\\AppData\\Local\\Packages\\PythonSoftwareFoundation.Python.3.11_qbz5n2kfra8p0\\LocalCache\\local-packages\\Python311\\site-packages\\seaborn\\_oldcore.py:1765: FutureWarning: unique with argument that is not not a Series, Index, ExtensionArray, or np.ndarray is deprecated and will raise in a future version.\n",
      "  order = pd.unique(vector)\n",
      "C:\\Users\\chena\\AppData\\Local\\Packages\\PythonSoftwareFoundation.Python.3.11_qbz5n2kfra8p0\\LocalCache\\local-packages\\Python311\\site-packages\\seaborn\\_oldcore.py:1498: FutureWarning: is_categorical_dtype is deprecated and will be removed in a future version. Use isinstance(dtype, CategoricalDtype) instead\n",
      "  if pd.api.types.is_categorical_dtype(vector):\n"
     ]
    },
    {
     "data": {
      "text/plain": "Text(0, 0.5, 'Size')"
     },
     "execution_count": 8,
     "metadata": {},
     "output_type": "execute_result"
    },
    {
     "data": {
      "text/plain": "<Figure size 640x480 with 1 Axes>",
      "image/png": "[encoded data removed]"
     },
     "metadata": {},
     "output_type": "display_data"
    }
   ],
   "source": [
    "import matplotlib.pyplot as plt\n",
    "\n",
    "emotions = os.listdir(train_dir)\n",
    "\n",
    "train_counts = []\n",
    "class_weights = {}\n",
    "\n",
    "for emotion in emotions:\n",
    "    if not emotion.endswith('checkpoints'):\n",
    "        folder = os.path.join(train_dir, emotion)\n",
    "        train_counts.append(len(os.listdir(folder)))\n",
    "\n",
    "sns.barplot(x=emotions, y=train_counts, palette='magma').set_title(\"FER2013 Training set class distribution\")\n",
    "plt.xlabel('Emotion')\n",
    "plt.ylabel('Size')\n"
   ],
   "metadata": {
    "collapsed": false,
    "ExecuteTime": {
     "end_time": "2024-07-02T23:56:59.997326900Z",
     "start_time": "2024-07-02T23:56:59.781773Z"
    }
   },
   "id": "6f801d42d5dcf99d"
  },
  {
   "cell_type": "code",
   "execution_count": null,
   "outputs": [],
   "source": [
    "validation_counts = []\n",
    "\n",
    "for emotion in emotions:\n",
    "    folder = os.path.join(validation_dir, emotion)\n",
    "    validation_counts.append(len(os.listdir(folder)))\n",
    "    \n",
    "sns.barplot(x=emotions, y=validation_counts, palette='magma')"
   ],
   "metadata": {
    "collapsed": false,
    "ExecuteTime": {
     "start_time": "2024-07-02T23:50:50.712218800Z"
    }
   },
   "id": "a37cd05ed22d9a4"
  },
  {
   "cell_type": "code",
   "execution_count": null,
   "outputs": [],
   "source": [
    "import tensorflow as tf\n",
    "from tensorflow.keras.optimizers import Adamax, SGD\n",
    "from tensorflow.keras.layers import BatchNormalization, GlobalAveragePooling2D, Input, Dense, Dropout\n",
    "from tensorflow.keras.models import Sequential\n",
    "\n",
    "input_shape = (224, 224, 3)  \n",
    "\n",
    "base_model = tf.keras.applications.resnet_v2.ResNet50V2(include_top=False, weights='imagenet', input_shape=input_shape)\n",
    "\n",
    "for layer in base_model.layers:\n",
    "    layer.trainable = False\n",
    "\n",
    "model = Sequential([\n",
    "    base_model,\n",
    "    BatchNormalization(),\n",
    "    GlobalAveragePooling2D(),\n",
    "    Dense(512, activation='relu'),\n",
    "    Dropout(0.1),\n",
    "    Dense(256, activation='relu'),\n",
    "    Dropout(0.1),\n",
    "    Dense(128, activation='relu'),\n",
    "    Dropout(0.1),\n",
    "    Dense(64, activation='relu'),\n",
    "    Dropout(0.1),\n",
    "    Dense(7, activation='softmax')\n",
    "])\n",
    "\n",
    "optimizer = tf.keras.optimizers.Adamax(learning_rate=0.0001)\n",
    "\n",
    "model.compile(optimizer=optimizer, loss='categorical_crossentropy', metrics=['accuracy'])\n",
    "model.summary()"
   ],
   "metadata": {
    "collapsed": false,
    "ExecuteTime": {
     "start_time": "2024-07-02T23:50:50.713219400Z"
    }
   },
   "id": "7e61f9b7e7918058"
  },
  {
   "cell_type": "code",
   "execution_count": null,
   "outputs": [],
   "source": [
    "# Fit the model\n",
    "history = model.fit(\n",
    "    train_generator,\n",
    "    epochs=15,\n",
    "    validation_data=valid_generator,\n",
    ")"
   ],
   "metadata": {
    "collapsed": false
   },
   "id": "6700f2a4c37bf43"
  },
  {
   "cell_type": "code",
   "execution_count": null,
   "outputs": [],
   "source": [
    "from keras.callbacks import EarlyStopping, ReduceLROnPlateau\n",
    "\n",
    "# Callbacks\n",
    "early_stopping = EarlyStopping(monitor='val_loss', patience=15, restore_best_weights=True)\n",
    "reduce_lr = ReduceLROnPlateau(monitor='val_loss', factor=0.2, patience=3, min_lr=1e-7)"
   ],
   "metadata": {
    "collapsed": false
   },
   "id": "2929a63de3471e0f"
  },
  {
   "cell_type": "code",
   "execution_count": null,
   "outputs": [],
   "source": [
    "# Unfreeze some layers in the base model for fine-tuning\n",
    "for layer in base_model.layers[-10:]:\n",
    "    layer.trainable = True"
   ],
   "metadata": {
    "collapsed": false
   },
   "id": "4f8d54e5987aa4c"
  },
  {
   "cell_type": "code",
   "execution_count": null,
   "outputs": [],
   "source": [
    "optimizer = Adamax(learning_rate=0.00001)\n",
    "model.compile(optimizer=optimizer, loss='categorical_crossentropy', metrics=['accuracy'])"
   ],
   "metadata": {
    "collapsed": false
   },
   "id": "54b9cbf7ef5e4686"
  },
  {
   "cell_type": "code",
   "execution_count": null,
   "outputs": [],
   "source": [
    "# Fit the model\n",
    "history = model.fit(\n",
    "    train_generator,\n",
    "    epochs=35,\n",
    "    validation_data=valid_generator,\n",
    "    class_weight=class_weights,\n",
    "    callbacks=[early_stopping, reduce_lr]\n",
    ")"
   ],
   "metadata": {
    "collapsed": false
   },
   "id": "80e42e7ff99bf0cf"
  },
  {
   "cell_type": "code",
   "execution_count": null,
   "outputs": [],
   "source": [
    "# import seaborn as sns\n",
    "from sklearn.metrics import f1_score, classification_report, confusion_matrix\n",
    "import matplotlib.pyplot as plt\n",
    "\n",
    "# Get the ground truth labels and predictions\n",
    "test_labels = test_generator.classes\n",
    "test_pred_probs = model.predict(test_generator)\n",
    "test_preds = np.argmax(test_pred_probs, axis=1)\n",
    "\n",
    "# Compute the F1 score\n",
    "f1 = f1_score(test_labels, test_preds, average='weighted')\n",
    "print(f'F1 Score: {f1}')\n",
    "\n",
    "# Evaluate the model on the test set\n",
    "results = model.evaluate(test_generator)\n",
    "\n",
    "# Print all the metrics\n",
    "for name, value in zip(model.metrics_names, results):\n",
    "    print(f'{name}: {value}')\n",
    "\n",
    "# Print classification report\n",
    "print(classification_report(test_labels, test_preds, target_names=valid_generator.class_indices.keys()))\n",
    "\n",
    "# Print confusion matrix\n",
    "cm = confusion_matrix(test_labels, test_preds)\n",
    "df_cm = pd.DataFrame(cm, index=[i for i in emotions],\n",
    "                     columns=[i for i in emotions])\n",
    "plt.figure(figsize=(12, 9))\n",
    "plt.xlabel('Actual')\n",
    "plt.ylabel('Predicted')\n",
    "sns.heatmap(df_cm, annot=True, fmt='g')"
   ],
   "metadata": {
    "collapsed": false
   },
   "id": "a43e5ec1f49cfdf9"
  },
  {
   "cell_type": "code",
   "execution_count": null,
   "outputs": [],
   "source": [
    "import numpy as np\n",
    "\n",
    "# Get predictions on the test set\n",
    "test_generator.reset()\n",
    "predictions = model.predict(test_generator, verbose=1)\n",
    "predicted_classes = np.argmax(predictions, axis=1)\n",
    "true_classes = test_generator.classes\n",
    "class_labels = list(test_generator.class_indices.keys())\n",
    "\n",
    "# Create a DataFrame for the test results\n",
    "test_df['predicted'] = predicted_classes\n",
    "test_df['true'] = true_classes\n",
    "\n",
    "\n",
    "# Calculate accuracy for each ethnic group\n",
    "represented_races = ['B', 'W', 'M']\n",
    "ethnic_results = {}\n",
    "# \n",
    "for group in represented_races:\n",
    "    group_df = test_df[test_df['Skin_tone'] == group]\n",
    "    print(f'Size of group: {len(group_df)}')\n",
    "    correct_predictions = np.sum(group_df['predicted'] == group_df['true'])\n",
    "    incorrect_predictions = len(group_df) - correct_predictions\n",
    "    ethnic_results[group] = correct_predictions / (correct_predictions + incorrect_predictions) * 100\n",
    "    \n",
    "# Display the accuracy for each ethnic group\n",
    "for group, accuracy in ethnic_results.items():\n",
    "    print(f'Accuracy for {group}: {accuracy:.2f}')"
   ],
   "metadata": {
    "collapsed": false
   },
   "id": "c5ea615ec9e8612a"
  },
  {
   "cell_type": "code",
   "execution_count": null,
   "outputs": [],
   "source": [
    "correct_df = test_df[test_df['predicted'] == test_df['true']]\n",
    "correct_df\n",
    "incorrect_df = test_df[test_df['predicted'] != test_df['true']]\n",
    "incorrect_df"
   ],
   "metadata": {
    "collapsed": false
   },
   "id": "a717330bab9a63f5"
  },
  {
   "cell_type": "code",
   "execution_count": null,
   "outputs": [],
   "source": [
    "experiment_name = paths[experiment][0].split('/')[0]\n",
    "\n",
    "if 'FER2013' in experiment_name:\n",
    "    experiment_group = 'FER2013'\n",
    "else:\n",
    "    experiment_group = 'SFEW'\n",
    "    \n",
    "print(os.path.join(grandparent_dir, 'Experiment_Output/' + experiment_group, paths[experiment][0].split('/')[0] + '_correct.csv'))\n",
    "correct_df.to_csv(os.path.join(grandparent_dir, 'Experiment_Output/' + experiment_group, paths[experiment][0].split('/')[0] + '_correct.csv'), sep=',', index=False, encoding='utf-8', na_rep='N/A')\n",
    "incorrect_df.to_csv(os.path.join(grandparent_dir, 'Experiment_Output/' + experiment_group, paths[experiment][0].split('/')[0] + '_incorrect.csv'), sep=',', index=False, encoding='utf-8', na_rep='N/A')"
   ],
   "metadata": {
    "collapsed": false
   },
   "id": "78b6523555706911"
  }
 ],
 "metadata": {
  "kernelspec": {
   "display_name": "Python 3",
   "language": "python",
   "name": "python3"
  },
  "language_info": {
   "codemirror_mode": {
    "name": "ipython",
    "version": 2
   },
   "file_extension": ".py",
   "mimetype": "text/x-python",
   "name": "python",
   "nbconvert_exporter": "python",
   "pygments_lexer": "ipython2",
   "version": "2.7.6"
  }
 },
 "nbformat": 4,
 "nbformat_minor": 5
}
