{
 "cells": [
  {
   "cell_type": "code",
   "execution_count": 9,
   "outputs": [],
   "source": [
    "import pandas as pd\n",
    "import os\n",
    "import shutil\n",
    "import matplotlib.pyplot as plt\n",
    "from pathlib import Path"
   ],
   "metadata": {
    "collapsed": false,
    "ExecuteTime": {
     "end_time": "2024-07-03T03:49:43.348315Z",
     "start_time": "2024-07-03T03:49:43.335014400Z"
    }
   },
   "id": "5ad27ae46b920e96"
  },
  {
   "cell_type": "markdown",
   "source": [
    "## FER2013"
   ],
   "metadata": {
    "collapsed": false
   },
   "id": "595c116fed36bf87"
  },
  {
   "cell_type": "code",
   "execution_count": null,
   "outputs": [],
   "source": [
    "current_dir = Path.cwd()\n",
    "parent_dir = current_dir.parent\n",
    "grandparent_dir = parent_dir.parent\n",
    "csv_dir_path = os.path.join(grandparent_dir, 'Experiment_Output/FER2013')\n",
    "correct_dfs = []\n",
    "incorrect_dfs = []\n",
    "\n",
    "print(grandparent_dir)\n",
    "\n",
    "for file in os.listdir(csv_dir_path):\n",
    "    if file.endswith('checkpoints'):\n",
    "        shutil.rmtree(os.path.join(csv_dir_path, file))\n",
    "        \n",
    "for file in os.listdir(csv_dir_path):\n",
    "    if os.path.isdir(os.path.join(csv_dir_path, file)):\n",
    "        continue\n",
    "    else:\n",
    "        file_path = os.path.join(csv_dir_path, file)\n",
    "        \n",
    "        if 'incorrect' in file:\n",
    "            df = pd.read_csv(file_path)\n",
    "            incorrect_dfs.append(df)\n",
    "        else:\n",
    "            df = pd.read_csv(file_path)\n",
    "            correct_dfs.append(df)\n",
    "            \n",
    "print(incorrect_dfs)\n",
    "print(correct_dfs)"
   ],
   "metadata": {
    "collapsed": false
   },
   "id": "9bcbc23d7bf908a8"
  },
  {
   "cell_type": "code",
   "execution_count": 7,
   "outputs": [
    {
     "ename": "IndexError",
     "evalue": "list index out of range",
     "output_type": "error",
     "traceback": [
      "\u001B[1;31m---------------------------------------------------------------------------\u001B[0m",
      "\u001B[1;31mIndexError\u001B[0m                                Traceback (most recent call last)",
      "Cell \u001B[1;32mIn[7], line 2\u001B[0m\n\u001B[0;32m      1\u001B[0m \u001B[38;5;66;03m# Start with the first DataFrame\u001B[39;00m\n\u001B[1;32m----> 2\u001B[0m common_rows_correct\u001B[38;5;241m=\u001B[39m \u001B[43mcorrect_dfs\u001B[49m\u001B[43m[\u001B[49m\u001B[38;5;241;43m0\u001B[39;49m\u001B[43m]\u001B[49m\n\u001B[0;32m      4\u001B[0m \u001B[38;5;66;03m# Iterate over the remaining DataFrames and merge them to find the intersection\u001B[39;00m\n\u001B[0;32m      5\u001B[0m \u001B[38;5;28;01mfor\u001B[39;00m df \u001B[38;5;129;01min\u001B[39;00m correct_dfs[\u001B[38;5;241m1\u001B[39m:]:\n",
      "\u001B[1;31mIndexError\u001B[0m: list index out of range"
     ]
    }
   ],
   "source": [
    "# Start with the first Dataframe\n",
    "common_rows_correct= correct_dfs[0]\n",
    "\n",
    "# Iterate over the remaining Dataframes and merge them to find the intersection\n",
    "for df in correct_dfs[1:]:\n",
    "    common_rows_correct = pd.merge(common_rows_correct, df, how='inner')"
   ],
   "metadata": {
    "collapsed": false,
    "ExecuteTime": {
     "end_time": "2024-07-03T00:54:06.057827800Z",
     "start_time": "2024-07-03T00:54:06.041493Z"
    }
   },
   "id": "bbc55f5e595b44"
  },
  {
   "cell_type": "code",
   "execution_count": 8,
   "outputs": [
    {
     "ename": "NameError",
     "evalue": "name 'common_rows_correct' is not defined",
     "output_type": "error",
     "traceback": [
      "\u001B[1;31m---------------------------------------------------------------------------\u001B[0m",
      "\u001B[1;31mNameError\u001B[0m                                 Traceback (most recent call last)",
      "Cell \u001B[1;32mIn[8], line 9\u001B[0m\n\u001B[0;32m      6\u001B[0m \u001B[38;5;66;03m# Iterate through the emotions and find one sample image for each\u001B[39;00m\n\u001B[0;32m      7\u001B[0m \u001B[38;5;28;01mfor\u001B[39;00m emotion \u001B[38;5;129;01min\u001B[39;00m emotions:\n\u001B[0;32m      8\u001B[0m     \u001B[38;5;66;03m# Filter the DataFrame for the current emotion\u001B[39;00m\n\u001B[1;32m----> 9\u001B[0m     emotion_df \u001B[38;5;241m=\u001B[39m \u001B[43mcommon_rows_correct\u001B[49m[common_rows_correct[\u001B[38;5;124m'\u001B[39m\u001B[38;5;124memotion\u001B[39m\u001B[38;5;124m'\u001B[39m] \u001B[38;5;241m==\u001B[39m emotion]\n\u001B[0;32m     10\u001B[0m     \u001B[38;5;28;01mif\u001B[39;00m \u001B[38;5;129;01mnot\u001B[39;00m emotion_df\u001B[38;5;241m.\u001B[39mempty:\n\u001B[0;32m     11\u001B[0m         \u001B[38;5;66;03m# Select the first row for this emotion\u001B[39;00m\n\u001B[0;32m     12\u001B[0m         sample_images_correct[emotion] \u001B[38;5;241m=\u001B[39m emotion_df\u001B[38;5;241m.\u001B[39miloc[\u001B[38;5;241m0\u001B[39m][\u001B[38;5;124m'\u001B[39m\u001B[38;5;124mpath\u001B[39m\u001B[38;5;124m'\u001B[39m]\n",
      "\u001B[1;31mNameError\u001B[0m: name 'common_rows_correct' is not defined"
     ]
    }
   ],
   "source": [
    "emotions = ['Angry', 'Disgust', 'Fear', 'Happy', 'Neutral', 'Sad', 'Surprise']\n",
    "\n",
    "# Initialize a dictionary to store a sample image path for each emotion\n",
    "sample_images_correct = {}\n",
    "\n",
    "# Iterate through the emotions and find one sample image for each\n",
    "for emotion in emotions:\n",
    "    # Filter the DataFrame for the current emotion\n",
    "    emotion_df = common_rows_correct[common_rows_correct['emotion'] == emotion]\n",
    "    if not emotion_df.empty:\n",
    "        # Select the first row for this emotion\n",
    "        sample_images_correct[emotion] = emotion_df.iloc[0]['path']\n",
    "        \n",
    "# Plot the images\n",
    "plt.figure(figsize=(15, 10))\n",
    "for i, (emotion, img_path) in enumerate(sample_images_correct.items()):\n",
    "    img = plt.imread(img_path)\n",
    "    plt.subplot(2, 4, i+1)\n",
    "    plt.imshow(img, cmap='gray')\n",
    "    plt.title(emotion)\n",
    "    plt.axis('off')\n",
    "\n",
    "plt.tight_layout()\n",
    "plt.show()"
   ],
   "metadata": {
    "collapsed": false,
    "ExecuteTime": {
     "end_time": "2024-07-03T00:54:06.380296700Z",
     "start_time": "2024-07-03T00:54:06.364192800Z"
    }
   },
   "id": "635919d44c5a1029"
  },
  {
   "cell_type": "code",
   "execution_count": null,
   "outputs": [],
   "source": [
    "common_rows_correct.to_csv(os.path.join(csv_dir_path, 'common_correct.csv'), index=False)"
   ],
   "metadata": {
    "collapsed": false
   },
   "id": "ac747b4af8d475f2"
  },
  {
   "cell_type": "code",
   "execution_count": null,
   "outputs": [],
   "source": [
    "# Start with the first Dataframe\n",
    "common_rows_incorrect = incorrect_dfs[0]\n",
    "\n",
    "# Iterate over the remaining Dataframes and merge them to find the intersection\n",
    "for df in incorrect_dfs[1:]:\n",
    "    common_rows_incorrect = pd.merge(common_rows_incorrect, df, how='inner')"
   ],
   "metadata": {
    "collapsed": false
   },
   "id": "5196c1fe2ae13ccb"
  },
  {
   "cell_type": "code",
   "execution_count": null,
   "outputs": [],
   "source": [
    "sample_images_incorrect = {}\n",
    "\n",
    "# Iterate through the emotions and find one sample image for each\n",
    "for emotion in emotions:\n",
    "    # Filter the Dataframe for the current emotion\n",
    "    emotion_df = common_rows_incorrect[common_rows_incorrect['emotion'] == emotion]\n",
    "    if not emotion_df.empty:\n",
    "        # Select the first row for this emotion\n",
    "        sample_images_incorrect[emotion] = (emotion_df.iloc[0]['path'], emotions[emotion_df.iloc[0]['predicted']])\n",
    "        \n",
    "plt.figure(figsize=(15, 10))\n",
    "for i, (emotion, (img_path, prediction)) in enumerate(sample_images_incorrect.items()):\n",
    "    img = plt.imread(img_path)\n",
    "    plt.subplot(2, 4, i+1)\n",
    "    plt.imshow(img, cmap='gray')\n",
    "    plt.title('True: ' + emotion + ' | Predicted: ' + prediction)\n",
    "    plt.axis('off')\n",
    "\n",
    "plt.tight_layout()\n",
    "plt.show()"
   ],
   "metadata": {
    "collapsed": false
   },
   "id": "c40c32e57df241c2"
  },
  {
   "cell_type": "code",
   "execution_count": null,
   "outputs": [],
   "source": [
    "common_rows_incorrect.to_csv(os.path.join(csv_dir_path, 'common_incorrect.csv'), index=False)"
   ],
   "metadata": {
    "collapsed": false
   },
   "id": "680b16a6d11ba840"
  },
  {
   "cell_type": "code",
   "execution_count": null,
   "outputs": [],
   "source": [
    "csv_dir_path = 'experiment_output/FER2013'\n",
    "columns = ['path', 'emotion', 'Skin_tone', 'predicted', 'true']\n",
    "incorrect_df = pd.DataFrame(columns=columns)\n",
    "correct_df = pd.DataFrame(columns=columns)\n",
    "\n",
    "for file in os.listdir(csv_dir_path):\n",
    "    if file.endswith('checkpoints'):\n",
    "        shutil.rmtree(os.path.join(csv_dir_path, file)) \n",
    "        \n",
    "for file in os.listdir(csv_dir_path):\n",
    "    if os.path.isdir(os.path.join(csv_dir_path, file)):\n",
    "        continue\n",
    "    else:\n",
    "        file_path = os.path.join(csv_dir_path, file)\n",
    "        \n",
    "        if 'incorrect' in file and '%' not in file:\n",
    "            incorrect_df = pd.read_csv(file_path)\n",
    "        elif '_correct' in file and '%' in file:\n",
    "            correct_df = pd.read_csv(file_path)\n",
    "        else:\n",
    "            continue"
   ],
   "metadata": {
    "collapsed": false
   },
   "id": "8a8c3d16849e5682"
  },
  {
   "cell_type": "code",
   "execution_count": null,
   "outputs": [],
   "source": [
    "sample_images = {}\n",
    "\n",
    "# Iterate through the emotions and find one sample image for each\n",
    "for emotion in emotions:\n",
    "    # Filter the DataFrame for the current emotion\n",
    "    incorrect_emotion_df = incorrect_df[incorrect_df['emotion'] == emotion]\n",
    "    correct_emotion_df = correct_df[correct_df['emotion'] == emotion]\n",
    "    common_images_df = pd.merge(incorrect_emotion_df, correct_emotion_df, on='path')\n",
    "\n",
    "    if not common_images_df.empty:\n",
    "        # Select the first row for this emotion\n",
    "        sample_images[emotion] = (common_images_df.iloc[-1]['path'], (emotions[common_images_df.iloc[-1]['predicted_x']], emotions[common_images_df.iloc[-1]['predicted_y']]))\n",
    "\n",
    "print(sample_images.items())\n",
    "            \n",
    "plt.figure(figsize=(15, 10))\n",
    "for i, data in enumerate(sample_images.items()):\n",
    "    print(data)\n",
    "    path = data[1][0]\n",
    "    prediction_non_integrated = data[1][1][0]\n",
    "    prediction_integrated = data[1][1][1]\n",
    "    img = plt.imread(path)\n",
    "    plt.subplot(2, 4, i+1)\n",
    "    plt.imshow(img, cmap='gray')\n",
    "    plt.title('FER2013 only: ' + prediction_non_integrated + ' | With 50% EiLA: ' + prediction_integrated)\n",
    "    plt.axis('off')\n",
    "\n",
    "plt.tight_layout()\n",
    "plt.show()"
   ],
   "metadata": {
    "collapsed": false
   },
   "id": "fa060c2efe4e60c9"
  }
 ],
 "metadata": {
  "kernelspec": {
   "display_name": "Python 3",
   "language": "python",
   "name": "python3"
  },
  "language_info": {
   "codemirror_mode": {
    "name": "ipython",
    "version": 2
   },
   "file_extension": ".py",
   "mimetype": "text/x-python",
   "name": "python",
   "nbconvert_exporter": "python",
   "pygments_lexer": "ipython2",
   "version": "2.7.6"
  }
 },
 "nbformat": 4,
 "nbformat_minor": 5
}
