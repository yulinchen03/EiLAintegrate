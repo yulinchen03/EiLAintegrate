{
 "cells": [
  {
   "cell_type": "code",
   "execution_count": 1,
   "outputs": [],
   "source": [
    "import os\n",
    "import pandas as pd\n",
    "from tensorflow.keras.preprocessing.image import ImageDataGenerator\n",
    "import seaborn as sns\n",
    "\n",
    "paths = [['FER2013/train_FER2013', 'FER2013/validation_FER2013'], ['EiLA/EiLA_train', 'EiLA/EiLA_validation'], ['SFEW/Processed_Train_Faces', 'SFEW/Processed_Validation_Faces'], ['FER2013+10%EiLA/train', 'FER2013+10%EiLA/validation'], ['FER2013+30%EiLA/train', 'FER2013+30%EiLA/validation'], ['FER2013+50%EiLA/train', 'FER2013+50%EiLA/validation'],['FER2013+100%EiLA/train', 'FER2013+100%EiLA/validation'], ['SFEW+10%EiLA/train', 'SFEW+10%EiLA/validation'], ['SFEW+30%EiLA/train', 'SFEW+30%EiLA/validation'], ['SFEW+50%EiLA/train', 'SFEW+50%EiLA/validation'], ['SFEW+100%EiLA/train', 'SFEW+100%EiLA/validation']]\n",
    "current_dir = os.getcwd()\n",
    "parent_dir = os.path.dirname(current_dir)\n",
    "grandparent_dir = os.path.dirname(parent_dir)\n",
    "\n",
    "# Load the demographics spreadsheet\n",
    "demographics_df = pd.read_csv(os.path.join(grandparent_dir, 'EiLA/Extra/demographics.csv'))"
   ],
   "metadata": {
    "collapsed": false,
    "ExecuteTime": {
     "end_time": "2024-07-03T01:06:54.201907200Z",
     "start_time": "2024-07-03T01:06:51.404947800Z"
    }
   },
   "id": "97c57173e455f6b2"
  },
  {
   "cell_type": "code",
   "execution_count": 2,
   "outputs": [
    {
     "name": "stdout",
     "output_type": "stream",
     "text": [
      "C:\\Users\\chena\\Desktop\\ResearchProject\\Experiment_Datasets\\SFEW+10%EiLA/train\n",
      "C:\\Users\\chena\\Desktop\\ResearchProject\\Experiment_Datasets\\SFEW+10%EiLA/validation\n"
     ]
    }
   ],
   "source": [
    "import shutil\n",
    "\n",
    "experiment = 7\n",
    "train_dir = os.path.join(grandparent_dir, 'Experiment_Datasets', paths[experiment][0]) # select training dataset for this experiment\n",
    "validation_dir = os.path.join(grandparent_dir, 'Experiment_Datasets', paths[experiment][1])  # select validation dataset for this experiment\n",
    "test_dir = os.path.join(grandparent_dir, 'EiLA/Preprocessing/2.Resized_image/EiLA_test') # same for all experiments\n",
    "\n",
    "print(train_dir)\n",
    "print(validation_dir)\n",
    "\n",
    "valid_emotions = ['Angry', 'Disgust', 'Fear', 'Happy', 'Neutral', 'Sad', 'Surprise']\n",
    "\n",
    "emotions = os.listdir(train_dir)\n",
    "\n",
    "def clean_directory(directory, valid_emotions):\n",
    "    for item in os.listdir(directory):\n",
    "        item_path = os.path.join(directory, item)\n",
    "        if os.path.isdir(item_path) and item not in valid_emotions:\n",
    "            shutil.rmtree(item_path)  # Remove invalid directories (e.g ipynb_checkpoints)\n",
    "            \n",
    "clean_directory(train_dir, valid_emotions)\n",
    "clean_directory(validation_dir, valid_emotions)\n",
    "clean_directory(test_dir, valid_emotions)"
   ],
   "metadata": {
    "collapsed": false,
    "ExecuteTime": {
     "end_time": "2024-07-03T01:06:54.215528600Z",
     "start_time": "2024-07-03T01:06:54.203908700Z"
    }
   },
   "id": "f6ca25f6313ed9e3"
  },
  {
   "cell_type": "code",
   "execution_count": 3,
   "outputs": [
    {
     "name": "stdout",
     "output_type": "stream",
     "text": [
      "Training set counts: defaultdict(<class 'int'>, {'Angry': 272, 'Disgust': 61, 'Fear': 85, 'Happy': 289, 'Neutral': 395, 'Sad': 173, 'Surprise': 98})\n",
      "Validation set counts: defaultdict(<class 'int'>, {'Angry': 88, 'Disgust': 27, 'Fear': 56, 'Happy': 129, 'Neutral': 123, 'Sad': 76, 'Surprise': 65})\n"
     ]
    }
   ],
   "source": [
    "from collections import defaultdict\n",
    "\n",
    "def count_images(directory, valid_emotions):\n",
    "    count = defaultdict(int)\n",
    "    for emotion in valid_emotions:\n",
    "        emotion_dir = os.path.join(directory, emotion)\n",
    "        if os.path.isdir(emotion_dir):\n",
    "            count[emotion] = len(os.listdir(emotion_dir))\n",
    "    return count\n",
    "\n",
    "train_counts = count_images(train_dir, valid_emotions)\n",
    "valid_counts = count_images(validation_dir, valid_emotions)\n",
    "\n",
    "print(\"Training set counts:\", train_counts)\n",
    "print(\"Validation set counts:\", valid_counts)"
   ],
   "metadata": {
    "collapsed": false,
    "ExecuteTime": {
     "end_time": "2024-07-03T01:06:54.225070100Z",
     "start_time": "2024-07-03T01:06:54.213031200Z"
    }
   },
   "id": "5405a8f186f4edf9"
  },
  {
   "cell_type": "code",
   "execution_count": 4,
   "outputs": [
    {
     "name": "stdout",
     "output_type": "stream",
     "text": [
      "Found 1373 images belonging to 7 classes.\n",
      "Found 564 images belonging to 7 classes.\n",
      "Found 815 validated image filenames belonging to 7 classes.\n"
     ]
    }
   ],
   "source": [
    "from tensorflow.keras.preprocessing.image import ImageDataGenerator, img_to_array, load_img\n",
    "from tensorflow.keras.applications.resnet_v2 import preprocess_input\n",
    "import numpy as np\n",
    "\n",
    "# Create a DataFrame to hold image paths and corresponding labels and demographics\n",
    "def create_test_dataframe(data_dir, demographics_df):\n",
    "    data = []\n",
    "    for emotion in valid_emotions:\n",
    "        emotion_dir = os.path.join(data_dir, emotion)\n",
    "        if os.path.isdir(emotion_dir):\n",
    "            for img_name in os.listdir(emotion_dir):\n",
    "                img_path = os.path.join(emotion_dir, img_name)\n",
    "                # Extract demographic information from file name\n",
    "                id = img_name.split('.')[0].split('video_')[0].split('_label_')[0]\n",
    "                label = img_name.split('.')[0].split('video_')[0].split('_label_')[1].split('_')[0]\n",
    "                video_tag = img_name.split('.')[0].split('video_')[1].split('_clip_')[0]\n",
    "                clip_id = int(img_name.split('.')[0].split('video_')[1].split('_clip_')[1].split('_person_')[0])\n",
    "                person_id = int(img_name.split('.')[0].split('video_')[1].split('_clip_')[1].split('_person_')[1])       \n",
    "                \n",
    "                # Find the corresponding row in the demographics DataFrame\n",
    "                demo_info = demographics_df[(demographics_df['Video Tag'] == video_tag) &\n",
    "                                           (demographics_df['Clip Id'] == clip_id) &\n",
    "                                           (demographics_df['Person Id'] == person_id)]\n",
    "                if not demo_info.empty:\n",
    "                    perceived_race = demo_info.iloc[0]['Perceived Race']\n",
    "                    data.append((img_path, emotion, perceived_race))\n",
    "    return pd.DataFrame(data, columns=['path', 'emotion', 'Skin_tone'])\n",
    "\n",
    "\n",
    "datagen = ImageDataGenerator(preprocessing_function=preprocess_input)\n",
    "\n",
    "test_df = create_test_dataframe(test_dir, demographics_df)\n",
    "\n",
    "train_generator = datagen.flow_from_directory(\n",
    "    train_dir,\n",
    "    target_size=(224, 224),\n",
    "    batch_size=32,\n",
    "    class_mode='categorical',\n",
    "    shuffle=True,\n",
    "    color_mode='rgb'\n",
    ")\n",
    "\n",
    "valid_generator = datagen.flow_from_directory(\n",
    "    validation_dir,\n",
    "    target_size=(224, 224),\n",
    "    batch_size=32,\n",
    "    class_mode='categorical',\n",
    "    shuffle=True,\n",
    "    color_mode='rgb'\n",
    ")\n",
    "\n",
    "test_generator = datagen.flow_from_dataframe(\n",
    "    test_df,\n",
    "    x_col='path', \n",
    "    y_col='emotion',\n",
    "    target_size=(224, 224),\n",
    "    batch_size=32,\n",
    "    class_mode='categorical',\n",
    "    shuffle=False,\n",
    "    color_mode='rgb'\n",
    ")"
   ],
   "metadata": {
    "collapsed": false,
    "ExecuteTime": {
     "end_time": "2024-07-03T01:06:54.598416200Z",
     "start_time": "2024-07-03T01:06:54.225568800Z"
    }
   },
   "id": "e5b52f7efc2dcd37"
  },
  {
   "cell_type": "code",
   "execution_count": 5,
   "outputs": [
    {
     "data": {
      "text/plain": "                                                  path   emotion Skin_tone\n0    C:\\Users\\chena\\Desktop\\ResearchProject\\EiLA/Pr...     Angry         W\n1    C:\\Users\\chena\\Desktop\\ResearchProject\\EiLA/Pr...     Angry         W\n2    C:\\Users\\chena\\Desktop\\ResearchProject\\EiLA/Pr...     Angry         W\n3    C:\\Users\\chena\\Desktop\\ResearchProject\\EiLA/Pr...     Angry         W\n4    C:\\Users\\chena\\Desktop\\ResearchProject\\EiLA/Pr...     Angry         W\n..                                                 ...       ...       ...\n810  C:\\Users\\chena\\Desktop\\ResearchProject\\EiLA/Pr...  Surprise         W\n811  C:\\Users\\chena\\Desktop\\ResearchProject\\EiLA/Pr...  Surprise         W\n812  C:\\Users\\chena\\Desktop\\ResearchProject\\EiLA/Pr...  Surprise         W\n813  C:\\Users\\chena\\Desktop\\ResearchProject\\EiLA/Pr...  Surprise         W\n814  C:\\Users\\chena\\Desktop\\ResearchProject\\EiLA/Pr...  Surprise         W\n\n[815 rows x 3 columns]",
      "text/html": "<div>\n<style scoped>\n    .dataframe tbody tr th:only-of-type {\n        vertical-align: middle;\n    }\n\n    .dataframe tbody tr th {\n        vertical-align: top;\n    }\n\n    .dataframe thead th {\n        text-align: right;\n    }\n</style>\n<table border=\"1\" class=\"dataframe\">\n  <thead>\n    <tr style=\"text-align: right;\">\n      <th></th>\n      <th>path</th>\n      <th>emotion</th>\n      <th>Skin_tone</th>\n    </tr>\n  </thead>\n  <tbody>\n    <tr>\n      <th>0</th>\n      <td>C:\\Users\\chena\\Desktop\\ResearchProject\\EiLA/Pr...</td>\n      <td>Angry</td>\n      <td>W</td>\n    </tr>\n    <tr>\n      <th>1</th>\n      <td>C:\\Users\\chena\\Desktop\\ResearchProject\\EiLA/Pr...</td>\n      <td>Angry</td>\n      <td>W</td>\n    </tr>\n    <tr>\n      <th>2</th>\n      <td>C:\\Users\\chena\\Desktop\\ResearchProject\\EiLA/Pr...</td>\n      <td>Angry</td>\n      <td>W</td>\n    </tr>\n    <tr>\n      <th>3</th>\n      <td>C:\\Users\\chena\\Desktop\\ResearchProject\\EiLA/Pr...</td>\n      <td>Angry</td>\n      <td>W</td>\n    </tr>\n    <tr>\n      <th>4</th>\n      <td>C:\\Users\\chena\\Desktop\\ResearchProject\\EiLA/Pr...</td>\n      <td>Angry</td>\n      <td>W</td>\n    </tr>\n    <tr>\n      <th>...</th>\n      <td>...</td>\n      <td>...</td>\n      <td>...</td>\n    </tr>\n    <tr>\n      <th>810</th>\n      <td>C:\\Users\\chena\\Desktop\\ResearchProject\\EiLA/Pr...</td>\n      <td>Surprise</td>\n      <td>W</td>\n    </tr>\n    <tr>\n      <th>811</th>\n      <td>C:\\Users\\chena\\Desktop\\ResearchProject\\EiLA/Pr...</td>\n      <td>Surprise</td>\n      <td>W</td>\n    </tr>\n    <tr>\n      <th>812</th>\n      <td>C:\\Users\\chena\\Desktop\\ResearchProject\\EiLA/Pr...</td>\n      <td>Surprise</td>\n      <td>W</td>\n    </tr>\n    <tr>\n      <th>813</th>\n      <td>C:\\Users\\chena\\Desktop\\ResearchProject\\EiLA/Pr...</td>\n      <td>Surprise</td>\n      <td>W</td>\n    </tr>\n    <tr>\n      <th>814</th>\n      <td>C:\\Users\\chena\\Desktop\\ResearchProject\\EiLA/Pr...</td>\n      <td>Surprise</td>\n      <td>W</td>\n    </tr>\n  </tbody>\n</table>\n<p>815 rows × 3 columns</p>\n</div>"
     },
     "execution_count": 5,
     "metadata": {},
     "output_type": "execute_result"
    }
   ],
   "source": [
    "# test_df = create_test_dataframe('EiLA/EiLA_test', demographics_df)\n",
    "test_df"
   ],
   "metadata": {
    "collapsed": false,
    "ExecuteTime": {
     "end_time": "2024-07-03T01:06:54.610587700Z",
     "start_time": "2024-07-03T01:06:54.595323200Z"
    }
   },
   "id": "662ea0fd0b07a846"
  },
  {
   "cell_type": "code",
   "execution_count": 6,
   "outputs": [
    {
     "name": "stderr",
     "output_type": "stream",
     "text": [
      "C:\\Users\\chena\\AppData\\Local\\Packages\\PythonSoftwareFoundation.Python.3.11_qbz5n2kfra8p0\\LocalCache\\local-packages\\Python311\\site-packages\\seaborn\\_oldcore.py:1498: FutureWarning: is_categorical_dtype is deprecated and will be removed in a future version. Use isinstance(dtype, CategoricalDtype) instead\n",
      "  if pd.api.types.is_categorical_dtype(vector):\n",
      "C:\\Users\\chena\\AppData\\Local\\Packages\\PythonSoftwareFoundation.Python.3.11_qbz5n2kfra8p0\\LocalCache\\local-packages\\Python311\\site-packages\\seaborn\\_oldcore.py:1498: FutureWarning: is_categorical_dtype is deprecated and will be removed in a future version. Use isinstance(dtype, CategoricalDtype) instead\n",
      "  if pd.api.types.is_categorical_dtype(vector):\n",
      "C:\\Users\\chena\\AppData\\Local\\Packages\\PythonSoftwareFoundation.Python.3.11_qbz5n2kfra8p0\\LocalCache\\local-packages\\Python311\\site-packages\\seaborn\\_oldcore.py:1765: FutureWarning: unique with argument that is not not a Series, Index, ExtensionArray, or np.ndarray is deprecated and will raise in a future version.\n",
      "  order = pd.unique(vector)\n",
      "C:\\Users\\chena\\AppData\\Local\\Packages\\PythonSoftwareFoundation.Python.3.11_qbz5n2kfra8p0\\LocalCache\\local-packages\\Python311\\site-packages\\seaborn\\_oldcore.py:1498: FutureWarning: is_categorical_dtype is deprecated and will be removed in a future version. Use isinstance(dtype, CategoricalDtype) instead\n",
      "  if pd.api.types.is_categorical_dtype(vector):\n"
     ]
    },
    {
     "data": {
      "text/plain": "Text(0, 0.5, 'Size')"
     },
     "execution_count": 6,
     "metadata": {},
     "output_type": "execute_result"
    },
    {
     "data": {
      "text/plain": "<Figure size 640x480 with 1 Axes>",
      "image/png": "[encoded data removed]"
     },
     "metadata": {},
     "output_type": "display_data"
    }
   ],
   "source": [
    "import matplotlib.pyplot as plt\n",
    "\n",
    "emotions = os.listdir(train_dir)\n",
    "\n",
    "train_counts = []\n",
    "class_weights = {}\n",
    "\n",
    "for emotion in emotions:\n",
    "    if not emotion.endswith('checkpoints'):\n",
    "        folder = os.path.join(train_dir, emotion)\n",
    "        train_counts.append(len(os.listdir(folder)))\n",
    "\n",
    "sns.barplot(x=emotions, y=train_counts, palette='magma').set_title(\"FER2013 Training set class distribution\")\n",
    "plt.xlabel('Emotion')\n",
    "plt.ylabel('Size')\n"
   ],
   "metadata": {
    "collapsed": false,
    "ExecuteTime": {
     "end_time": "2024-07-03T01:06:54.779049600Z",
     "start_time": "2024-07-03T01:06:54.606089300Z"
    }
   },
   "id": "6f801d42d5dcf99d"
  },
  {
   "cell_type": "code",
   "execution_count": 7,
   "outputs": [
    {
     "name": "stderr",
     "output_type": "stream",
     "text": [
      "C:\\Users\\chena\\AppData\\Local\\Packages\\PythonSoftwareFoundation.Python.3.11_qbz5n2kfra8p0\\LocalCache\\local-packages\\Python311\\site-packages\\seaborn\\_oldcore.py:1498: FutureWarning: is_categorical_dtype is deprecated and will be removed in a future version. Use isinstance(dtype, CategoricalDtype) instead\n",
      "  if pd.api.types.is_categorical_dtype(vector):\n",
      "C:\\Users\\chena\\AppData\\Local\\Packages\\PythonSoftwareFoundation.Python.3.11_qbz5n2kfra8p0\\LocalCache\\local-packages\\Python311\\site-packages\\seaborn\\_oldcore.py:1498: FutureWarning: is_categorical_dtype is deprecated and will be removed in a future version. Use isinstance(dtype, CategoricalDtype) instead\n",
      "  if pd.api.types.is_categorical_dtype(vector):\n",
      "C:\\Users\\chena\\AppData\\Local\\Packages\\PythonSoftwareFoundation.Python.3.11_qbz5n2kfra8p0\\LocalCache\\local-packages\\Python311\\site-packages\\seaborn\\_oldcore.py:1765: FutureWarning: unique with argument that is not not a Series, Index, ExtensionArray, or np.ndarray is deprecated and will raise in a future version.\n",
      "  order = pd.unique(vector)\n",
      "C:\\Users\\chena\\AppData\\Local\\Packages\\PythonSoftwareFoundation.Python.3.11_qbz5n2kfra8p0\\LocalCache\\local-packages\\Python311\\site-packages\\seaborn\\_oldcore.py:1498: FutureWarning: is_categorical_dtype is deprecated and will be removed in a future version. Use isinstance(dtype, CategoricalDtype) instead\n",
      "  if pd.api.types.is_categorical_dtype(vector):\n"
     ]
    },
    {
     "data": {
      "text/plain": "<Axes: >"
     },
     "execution_count": 7,
     "metadata": {},
     "output_type": "execute_result"
    },
    {
     "data": {
      "text/plain": "<Figure size 640x480 with 1 Axes>",
      "image/png": "[encoded data removed]"
     },
     "metadata": {},
     "output_type": "display_data"
    }
   ],
   "source": [
    "validation_counts = []\n",
    "\n",
    "for emotion in emotions:\n",
    "    folder = os.path.join(validation_dir, emotion)\n",
    "    validation_counts.append(len(os.listdir(folder)))\n",
    "    \n",
    "sns.barplot(x=emotions, y=validation_counts, palette='magma')"
   ],
   "metadata": {
    "collapsed": false,
    "ExecuteTime": {
     "end_time": "2024-07-03T01:06:54.904159300Z",
     "start_time": "2024-07-03T01:06:54.773550800Z"
    }
   },
   "id": "a37cd05ed22d9a4"
  },
  {
   "cell_type": "code",
   "execution_count": 8,
   "outputs": [
    {
     "data": {
      "text/plain": "\u001B[1mModel: \"sequential\"\u001B[0m\n",
      "text/html": "<pre style=\"white-space:pre;overflow-x:auto;line-height:normal;font-family:Menlo,'DejaVu Sans Mono',consolas,'Courier New',monospace\"><span style=\"font-weight: bold\">Model: \"sequential\"</span>\n</pre>\n"
     },
     "metadata": {},
     "output_type": "display_data"
    },
    {
     "data": {
      "text/plain": "┏━━━━━━━━━━━━━━━━━━━━━━━━━━━━━━━━━┳━━━━━━━━━━━━━━━━━━━━━━━━┳━━━━━━━━━━━━━━━┓\n┃\u001B[1m \u001B[0m\u001B[1mLayer (type)                   \u001B[0m\u001B[1m \u001B[0m┃\u001B[1m \u001B[0m\u001B[1mOutput Shape          \u001B[0m\u001B[1m \u001B[0m┃\u001B[1m \u001B[0m\u001B[1m      Param #\u001B[0m\u001B[1m \u001B[0m┃\n┡━━━━━━━━━━━━━━━━━━━━━━━━━━━━━━━━━╇━━━━━━━━━━━━━━━━━━━━━━━━╇━━━━━━━━━━━━━━━┩\n│ resnet50v2 (\u001B[38;5;33mFunctional\u001B[0m)         │ ?                      │    \u001B[38;5;34m23,564,800\u001B[0m │\n├─────────────────────────────────┼────────────────────────┼───────────────┤\n│ batch_normalization             │ ?                      │   \u001B[38;5;34m0\u001B[0m (unbuilt) │\n│ (\u001B[38;5;33mBatchNormalization\u001B[0m)            │                        │               │\n├─────────────────────────────────┼────────────────────────┼───────────────┤\n│ global_average_pooling2d        │ ?                      │   \u001B[38;5;34m0\u001B[0m (unbuilt) │\n│ (\u001B[38;5;33mGlobalAveragePooling2D\u001B[0m)        │                        │               │\n├─────────────────────────────────┼────────────────────────┼───────────────┤\n│ dense (\u001B[38;5;33mDense\u001B[0m)                   │ ?                      │   \u001B[38;5;34m0\u001B[0m (unbuilt) │\n├─────────────────────────────────┼────────────────────────┼───────────────┤\n│ dropout (\u001B[38;5;33mDropout\u001B[0m)               │ ?                      │   \u001B[38;5;34m0\u001B[0m (unbuilt) │\n├─────────────────────────────────┼────────────────────────┼───────────────┤\n│ dense_1 (\u001B[38;5;33mDense\u001B[0m)                 │ ?                      │   \u001B[38;5;34m0\u001B[0m (unbuilt) │\n├─────────────────────────────────┼────────────────────────┼───────────────┤\n│ dropout_1 (\u001B[38;5;33mDropout\u001B[0m)             │ ?                      │   \u001B[38;5;34m0\u001B[0m (unbuilt) │\n├─────────────────────────────────┼────────────────────────┼───────────────┤\n│ dense_2 (\u001B[38;5;33mDense\u001B[0m)                 │ ?                      │   \u001B[38;5;34m0\u001B[0m (unbuilt) │\n├─────────────────────────────────┼────────────────────────┼───────────────┤\n│ dropout_2 (\u001B[38;5;33mDropout\u001B[0m)             │ ?                      │   \u001B[38;5;34m0\u001B[0m (unbuilt) │\n├─────────────────────────────────┼────────────────────────┼───────────────┤\n│ dense_3 (\u001B[38;5;33mDense\u001B[0m)                 │ ?                      │   \u001B[38;5;34m0\u001B[0m (unbuilt) │\n├─────────────────────────────────┼────────────────────────┼───────────────┤\n│ dropout_3 (\u001B[38;5;33mDropout\u001B[0m)             │ ?                      │   \u001B[38;5;34m0\u001B[0m (unbuilt) │\n├─────────────────────────────────┼────────────────────────┼───────────────┤\n│ dense_4 (\u001B[38;5;33mDense\u001B[0m)                 │ ?                      │   \u001B[38;5;34m0\u001B[0m (unbuilt) │\n└─────────────────────────────────┴────────────────────────┴───────────────┘\n",
      "text/html": "<pre style=\"white-space:pre;overflow-x:auto;line-height:normal;font-family:Menlo,'DejaVu Sans Mono',consolas,'Courier New',monospace\">┏━━━━━━━━━━━━━━━━━━━━━━━━━━━━━━━━━┳━━━━━━━━━━━━━━━━━━━━━━━━┳━━━━━━━━━━━━━━━┓\n┃<span style=\"font-weight: bold\"> Layer (type)                    </span>┃<span style=\"font-weight: bold\"> Output Shape           </span>┃<span style=\"font-weight: bold\">       Param # </span>┃\n┡━━━━━━━━━━━━━━━━━━━━━━━━━━━━━━━━━╇━━━━━━━━━━━━━━━━━━━━━━━━╇━━━━━━━━━━━━━━━┩\n│ resnet50v2 (<span style=\"color: #0087ff; text-decoration-color: #0087ff\">Functional</span>)         │ ?                      │    <span style=\"color: #00af00; text-decoration-color: #00af00\">23,564,800</span> │\n├─────────────────────────────────┼────────────────────────┼───────────────┤\n│ batch_normalization             │ ?                      │   <span style=\"color: #00af00; text-decoration-color: #00af00\">0</span> (unbuilt) │\n│ (<span style=\"color: #0087ff; text-decoration-color: #0087ff\">BatchNormalization</span>)            │                        │               │\n├─────────────────────────────────┼────────────────────────┼───────────────┤\n│ global_average_pooling2d        │ ?                      │   <span style=\"color: #00af00; text-decoration-color: #00af00\">0</span> (unbuilt) │\n│ (<span style=\"color: #0087ff; text-decoration-color: #0087ff\">GlobalAveragePooling2D</span>)        │                        │               │\n├─────────────────────────────────┼────────────────────────┼───────────────┤\n│ dense (<span style=\"color: #0087ff; text-decoration-color: #0087ff\">Dense</span>)                   │ ?                      │   <span style=\"color: #00af00; text-decoration-color: #00af00\">0</span> (unbuilt) │\n├─────────────────────────────────┼────────────────────────┼───────────────┤\n│ dropout (<span style=\"color: #0087ff; text-decoration-color: #0087ff\">Dropout</span>)               │ ?                      │   <span style=\"color: #00af00; text-decoration-color: #00af00\">0</span> (unbuilt) │\n├─────────────────────────────────┼────────────────────────┼───────────────┤\n│ dense_1 (<span style=\"color: #0087ff; text-decoration-color: #0087ff\">Dense</span>)                 │ ?                      │   <span style=\"color: #00af00; text-decoration-color: #00af00\">0</span> (unbuilt) │\n├─────────────────────────────────┼────────────────────────┼───────────────┤\n│ dropout_1 (<span style=\"color: #0087ff; text-decoration-color: #0087ff\">Dropout</span>)             │ ?                      │   <span style=\"color: #00af00; text-decoration-color: #00af00\">0</span> (unbuilt) │\n├─────────────────────────────────┼────────────────────────┼───────────────┤\n│ dense_2 (<span style=\"color: #0087ff; text-decoration-color: #0087ff\">Dense</span>)                 │ ?                      │   <span style=\"color: #00af00; text-decoration-color: #00af00\">0</span> (unbuilt) │\n├─────────────────────────────────┼────────────────────────┼───────────────┤\n│ dropout_2 (<span style=\"color: #0087ff; text-decoration-color: #0087ff\">Dropout</span>)             │ ?                      │   <span style=\"color: #00af00; text-decoration-color: #00af00\">0</span> (unbuilt) │\n├─────────────────────────────────┼────────────────────────┼───────────────┤\n│ dense_3 (<span style=\"color: #0087ff; text-decoration-color: #0087ff\">Dense</span>)                 │ ?                      │   <span style=\"color: #00af00; text-decoration-color: #00af00\">0</span> (unbuilt) │\n├─────────────────────────────────┼────────────────────────┼───────────────┤\n│ dropout_3 (<span style=\"color: #0087ff; text-decoration-color: #0087ff\">Dropout</span>)             │ ?                      │   <span style=\"color: #00af00; text-decoration-color: #00af00\">0</span> (unbuilt) │\n├─────────────────────────────────┼────────────────────────┼───────────────┤\n│ dense_4 (<span style=\"color: #0087ff; text-decoration-color: #0087ff\">Dense</span>)                 │ ?                      │   <span style=\"color: #00af00; text-decoration-color: #00af00\">0</span> (unbuilt) │\n└─────────────────────────────────┴────────────────────────┴───────────────┘\n</pre>\n"
     },
     "metadata": {},
     "output_type": "display_data"
    },
    {
     "data": {
      "text/plain": "\u001B[1m Total params: \u001B[0m\u001B[38;5;34m23,564,800\u001B[0m (89.89 MB)\n",
      "text/html": "<pre style=\"white-space:pre;overflow-x:auto;line-height:normal;font-family:Menlo,'DejaVu Sans Mono',consolas,'Courier New',monospace\"><span style=\"font-weight: bold\"> Total params: </span><span style=\"color: #00af00; text-decoration-color: #00af00\">23,564,800</span> (89.89 MB)\n</pre>\n"
     },
     "metadata": {},
     "output_type": "display_data"
    },
    {
     "data": {
      "text/plain": "\u001B[1m Trainable params: \u001B[0m\u001B[38;5;34m0\u001B[0m (0.00 B)\n",
      "text/html": "<pre style=\"white-space:pre;overflow-x:auto;line-height:normal;font-family:Menlo,'DejaVu Sans Mono',consolas,'Courier New',monospace\"><span style=\"font-weight: bold\"> Trainable params: </span><span style=\"color: #00af00; text-decoration-color: #00af00\">0</span> (0.00 B)\n</pre>\n"
     },
     "metadata": {},
     "output_type": "display_data"
    },
    {
     "data": {
      "text/plain": "\u001B[1m Non-trainable params: \u001B[0m\u001B[38;5;34m23,564,800\u001B[0m (89.89 MB)\n",
      "text/html": "<pre style=\"white-space:pre;overflow-x:auto;line-height:normal;font-family:Menlo,'DejaVu Sans Mono',consolas,'Courier New',monospace\"><span style=\"font-weight: bold\"> Non-trainable params: </span><span style=\"color: #00af00; text-decoration-color: #00af00\">23,564,800</span> (89.89 MB)\n</pre>\n"
     },
     "metadata": {},
     "output_type": "display_data"
    }
   ],
   "source": [
    "import tensorflow as tf\n",
    "from tensorflow.keras.optimizers import Adamax, SGD\n",
    "from tensorflow.keras.layers import BatchNormalization, GlobalAveragePooling2D, Input, Dense, Dropout\n",
    "from tensorflow.keras.models import Sequential\n",
    "\n",
    "input_shape = (224, 224, 3)  \n",
    "\n",
    "base_model = tf.keras.applications.resnet_v2.ResNet50V2(include_top=False, weights='imagenet', input_shape=input_shape)\n",
    "\n",
    "for layer in base_model.layers:\n",
    "    layer.trainable = False\n",
    "\n",
    "model = Sequential([\n",
    "    base_model,\n",
    "    BatchNormalization(),\n",
    "    GlobalAveragePooling2D(),\n",
    "    Dense(512, activation='relu'),\n",
    "    Dropout(0.1),\n",
    "    Dense(256, activation='relu'),\n",
    "    Dropout(0.1),\n",
    "    Dense(128, activation='relu'),\n",
    "    Dropout(0.1),\n",
    "    Dense(64, activation='relu'),\n",
    "    Dropout(0.1),\n",
    "    Dense(7, activation='softmax')\n",
    "])\n",
    "\n",
    "optimizer = tf.keras.optimizers.Adamax(learning_rate=0.0001)\n",
    "\n",
    "model.compile(optimizer=optimizer, loss='categorical_crossentropy', metrics=['accuracy'])\n",
    "model.summary()"
   ],
   "metadata": {
    "collapsed": false,
    "ExecuteTime": {
     "end_time": "2024-07-03T01:06:55.821325600Z",
     "start_time": "2024-07-03T01:06:54.898158800Z"
    }
   },
   "id": "7e61f9b7e7918058"
  },
  {
   "cell_type": "code",
   "execution_count": 9,
   "outputs": [
    {
     "name": "stdout",
     "output_type": "stream",
     "text": [
      "Epoch 1/15\n"
     ]
    },
    {
     "name": "stderr",
     "output_type": "stream",
     "text": [
      "C:\\Users\\chena\\AppData\\Local\\Packages\\PythonSoftwareFoundation.Python.3.11_qbz5n2kfra8p0\\LocalCache\\local-packages\\Python311\\site-packages\\keras\\src\\trainers\\data_adapters\\py_dataset_adapter.py:121: UserWarning: Your `PyDataset` class should call `super().__init__(**kwargs)` in its constructor. `**kwargs` can include `workers`, `use_multiprocessing`, `max_queue_size`. Do not pass these arguments to `fit()`, as they will be ignored.\n",
      "  self._warn_if_super_not_called()\n"
     ]
    },
    {
     "name": "stdout",
     "output_type": "stream",
     "text": [
      "\u001B[1m43/43\u001B[0m \u001B[32m━━━━━━━━━━━━━━━━━━━━\u001B[0m\u001B[37m\u001B[0m \u001B[1m56s\u001B[0m 1s/step - accuracy: 0.2244 - loss: 1.8954 - val_accuracy: 0.2287 - val_loss: 1.9327\n",
      "Epoch 2/15\n",
      "\u001B[1m43/43\u001B[0m \u001B[32m━━━━━━━━━━━━━━━━━━━━\u001B[0m\u001B[37m\u001B[0m \u001B[1m49s\u001B[0m 1s/step - accuracy: 0.3530 - loss: 1.7732 - val_accuracy: 0.2482 - val_loss: 1.9167\n",
      "Epoch 3/15\n",
      "\u001B[1m43/43\u001B[0m \u001B[32m━━━━━━━━━━━━━━━━━━━━\u001B[0m\u001B[37m\u001B[0m \u001B[1m48s\u001B[0m 1s/step - accuracy: 0.3749 - loss: 1.7212 - val_accuracy: 0.2748 - val_loss: 1.8965\n",
      "Epoch 4/15\n",
      "\u001B[1m43/43\u001B[0m \u001B[32m━━━━━━━━━━━━━━━━━━━━\u001B[0m\u001B[37m\u001B[0m \u001B[1m52s\u001B[0m 1s/step - accuracy: 0.3762 - loss: 1.6499 - val_accuracy: 0.2784 - val_loss: 1.8846\n",
      "Epoch 5/15\n",
      "\u001B[1m43/43\u001B[0m \u001B[32m━━━━━━━━━━━━━━━━━━━━\u001B[0m\u001B[37m\u001B[0m \u001B[1m49s\u001B[0m 1s/step - accuracy: 0.4124 - loss: 1.5840 - val_accuracy: 0.2748 - val_loss: 1.8710\n",
      "Epoch 6/15\n",
      "\u001B[1m43/43\u001B[0m \u001B[32m━━━━━━━━━━━━━━━━━━━━\u001B[0m\u001B[37m\u001B[0m \u001B[1m50s\u001B[0m 1s/step - accuracy: 0.4369 - loss: 1.5249 - val_accuracy: 0.2801 - val_loss: 1.8550\n",
      "Epoch 7/15\n",
      "\u001B[1m43/43\u001B[0m \u001B[32m━━━━━━━━━━━━━━━━━━━━\u001B[0m\u001B[37m\u001B[0m \u001B[1m49s\u001B[0m 1s/step - accuracy: 0.4270 - loss: 1.5156 - val_accuracy: 0.2943 - val_loss: 1.8407\n",
      "Epoch 8/15\n",
      "\u001B[1m43/43\u001B[0m \u001B[32m━━━━━━━━━━━━━━━━━━━━\u001B[0m\u001B[37m\u001B[0m \u001B[1m47s\u001B[0m 1s/step - accuracy: 0.4671 - loss: 1.4633 - val_accuracy: 0.3085 - val_loss: 1.8366\n",
      "Epoch 9/15\n",
      "\u001B[1m43/43\u001B[0m \u001B[32m━━━━━━━━━━━━━━━━━━━━\u001B[0m\u001B[37m\u001B[0m \u001B[1m47s\u001B[0m 1s/step - accuracy: 0.4751 - loss: 1.4335 - val_accuracy: 0.3191 - val_loss: 1.8295\n",
      "Epoch 10/15\n",
      "\u001B[1m43/43\u001B[0m \u001B[32m━━━━━━━━━━━━━━━━━━━━\u001B[0m\u001B[37m\u001B[0m \u001B[1m48s\u001B[0m 1s/step - accuracy: 0.5092 - loss: 1.3923 - val_accuracy: 0.3387 - val_loss: 1.8214\n",
      "Epoch 11/15\n",
      "\u001B[1m43/43\u001B[0m \u001B[32m━━━━━━━━━━━━━━━━━━━━\u001B[0m\u001B[37m\u001B[0m \u001B[1m48s\u001B[0m 1s/step - accuracy: 0.5167 - loss: 1.3670 - val_accuracy: 0.3387 - val_loss: 1.8159\n",
      "Epoch 12/15\n",
      "\u001B[1m43/43\u001B[0m \u001B[32m━━━━━━━━━━━━━━━━━━━━\u001B[0m\u001B[37m\u001B[0m \u001B[1m49s\u001B[0m 1s/step - accuracy: 0.5362 - loss: 1.2945 - val_accuracy: 0.3404 - val_loss: 1.8051\n",
      "Epoch 13/15\n",
      "\u001B[1m43/43\u001B[0m \u001B[32m━━━━━━━━━━━━━━━━━━━━\u001B[0m\u001B[37m\u001B[0m \u001B[1m49s\u001B[0m 1s/step - accuracy: 0.5672 - loss: 1.2818 - val_accuracy: 0.3387 - val_loss: 1.8107\n",
      "Epoch 14/15\n",
      "\u001B[1m43/43\u001B[0m \u001B[32m━━━━━━━━━━━━━━━━━━━━\u001B[0m\u001B[37m\u001B[0m \u001B[1m49s\u001B[0m 1s/step - accuracy: 0.5745 - loss: 1.2189 - val_accuracy: 0.3440 - val_loss: 1.8116\n",
      "Epoch 15/15\n",
      "\u001B[1m43/43\u001B[0m \u001B[32m━━━━━━━━━━━━━━━━━━━━\u001B[0m\u001B[37m\u001B[0m \u001B[1m48s\u001B[0m 1s/step - accuracy: 0.5860 - loss: 1.1702 - val_accuracy: 0.3511 - val_loss: 1.8051\n"
     ]
    }
   ],
   "source": [
    "# Fit the model\n",
    "history = model.fit(\n",
    "    train_generator,\n",
    "    epochs=15,\n",
    "    validation_data=valid_generator,\n",
    ")"
   ],
   "metadata": {
    "collapsed": false,
    "ExecuteTime": {
     "end_time": "2024-07-03T01:19:11.708405900Z",
     "start_time": "2024-07-03T01:06:55.819332800Z"
    }
   },
   "id": "6700f2a4c37bf43"
  },
  {
   "cell_type": "code",
   "execution_count": 10,
   "outputs": [],
   "source": [
    "from keras.callbacks import EarlyStopping, ReduceLROnPlateau\n",
    "\n",
    "# Callbacks\n",
    "early_stopping = EarlyStopping(monitor='val_loss', patience=15, restore_best_weights=True)\n",
    "reduce_lr = ReduceLROnPlateau(monitor='val_loss', factor=0.2, patience=3, min_lr=1e-7)"
   ],
   "metadata": {
    "collapsed": false,
    "ExecuteTime": {
     "end_time": "2024-07-03T01:19:11.713694800Z",
     "start_time": "2024-07-03T01:19:11.709905600Z"
    }
   },
   "id": "2929a63de3471e0f"
  },
  {
   "cell_type": "code",
   "execution_count": 11,
   "outputs": [],
   "source": [
    "# Unfreeze some layers in the base model for fine-tuning\n",
    "for layer in base_model.layers[-10:]:\n",
    "    layer.trainable = True"
   ],
   "metadata": {
    "collapsed": false,
    "ExecuteTime": {
     "end_time": "2024-07-03T01:19:11.729748300Z",
     "start_time": "2024-07-03T01:19:11.714715500Z"
    }
   },
   "id": "4f8d54e5987aa4c"
  },
  {
   "cell_type": "code",
   "execution_count": 12,
   "outputs": [],
   "source": [
    "optimizer = Adamax(learning_rate=0.0001)\n",
    "model.compile(optimizer=optimizer, loss='categorical_crossentropy', metrics=['accuracy'])"
   ],
   "metadata": {
    "collapsed": false,
    "ExecuteTime": {
     "end_time": "2024-07-03T01:19:11.739709200Z",
     "start_time": "2024-07-03T01:19:11.730250Z"
    }
   },
   "id": "54b9cbf7ef5e4686"
  },
  {
   "cell_type": "code",
   "execution_count": 13,
   "outputs": [
    {
     "name": "stdout",
     "output_type": "stream",
     "text": [
      "Epoch 1/35\n",
      "\u001B[1m43/43\u001B[0m \u001B[32m━━━━━━━━━━━━━━━━━━━━\u001B[0m\u001B[37m\u001B[0m \u001B[1m59s\u001B[0m 1s/step - accuracy: 0.5211 - loss: 1.2871 - val_accuracy: 0.3564 - val_loss: 1.8164 - learning_rate: 1.0000e-04\n",
      "Epoch 2/35\n",
      "\u001B[1m43/43\u001B[0m \u001B[32m━━━━━━━━━━━━━━━━━━━━\u001B[0m\u001B[37m\u001B[0m \u001B[1m53s\u001B[0m 1s/step - accuracy: 0.6395 - loss: 1.0527 - val_accuracy: 0.3652 - val_loss: 1.8152 - learning_rate: 1.0000e-04\n",
      "Epoch 3/35\n",
      "\u001B[1m43/43\u001B[0m \u001B[32m━━━━━━━━━━━━━━━━━━━━\u001B[0m\u001B[37m\u001B[0m \u001B[1m54s\u001B[0m 1s/step - accuracy: 0.7176 - loss: 0.9190 - val_accuracy: 0.3741 - val_loss: 1.8220 - learning_rate: 1.0000e-04\n",
      "Epoch 4/35\n",
      "\u001B[1m43/43\u001B[0m \u001B[32m━━━━━━━━━━━━━━━━━━━━\u001B[0m\u001B[37m\u001B[0m \u001B[1m53s\u001B[0m 1s/step - accuracy: 0.7525 - loss: 0.8275 - val_accuracy: 0.3688 - val_loss: 1.8352 - learning_rate: 1.0000e-04\n",
      "Epoch 5/35\n",
      "\u001B[1m43/43\u001B[0m \u001B[32m━━━━━━━━━━━━━━━━━━━━\u001B[0m\u001B[37m\u001B[0m \u001B[1m54s\u001B[0m 1s/step - accuracy: 0.7726 - loss: 0.7357 - val_accuracy: 0.3777 - val_loss: 1.8553 - learning_rate: 1.0000e-04\n",
      "Epoch 6/35\n",
      "\u001B[1m43/43\u001B[0m \u001B[32m━━━━━━━━━━━━━━━━━━━━\u001B[0m\u001B[37m\u001B[0m \u001B[1m55s\u001B[0m 1s/step - accuracy: 0.8071 - loss: 0.6614 - val_accuracy: 0.3777 - val_loss: 1.8653 - learning_rate: 2.0000e-05\n",
      "Epoch 7/35\n",
      "\u001B[1m43/43\u001B[0m \u001B[32m━━━━━━━━━━━━━━━━━━━━\u001B[0m\u001B[37m\u001B[0m \u001B[1m53s\u001B[0m 1s/step - accuracy: 0.8014 - loss: 0.6708 - val_accuracy: 0.3865 - val_loss: 1.8733 - learning_rate: 2.0000e-05\n",
      "Epoch 8/35\n",
      "\u001B[1m43/43\u001B[0m \u001B[32m━━━━━━━━━━━━━━━━━━━━\u001B[0m\u001B[37m\u001B[0m \u001B[1m53s\u001B[0m 1s/step - accuracy: 0.8086 - loss: 0.6482 - val_accuracy: 0.3901 - val_loss: 1.8765 - learning_rate: 2.0000e-05\n",
      "Epoch 9/35\n",
      "\u001B[1m43/43\u001B[0m \u001B[32m━━━━━━━━━━━━━━━━━━━━\u001B[0m\u001B[37m\u001B[0m \u001B[1m53s\u001B[0m 1s/step - accuracy: 0.8391 - loss: 0.6109 - val_accuracy: 0.3918 - val_loss: 1.8783 - learning_rate: 4.0000e-06\n",
      "Epoch 10/35\n",
      "\u001B[1m43/43\u001B[0m \u001B[32m━━━━━━━━━━━━━━━━━━━━\u001B[0m\u001B[37m\u001B[0m \u001B[1m56s\u001B[0m 1s/step - accuracy: 0.8099 - loss: 0.6144 - val_accuracy: 0.3901 - val_loss: 1.8798 - learning_rate: 4.0000e-06\n",
      "Epoch 11/35\n",
      "\u001B[1m43/43\u001B[0m \u001B[32m━━━━━━━━━━━━━━━━━━━━\u001B[0m\u001B[37m\u001B[0m \u001B[1m52s\u001B[0m 1s/step - accuracy: 0.8164 - loss: 0.6278 - val_accuracy: 0.3918 - val_loss: 1.8822 - learning_rate: 4.0000e-06\n",
      "Epoch 12/35\n",
      "\u001B[1m43/43\u001B[0m \u001B[32m━━━━━━━━━━━━━━━━━━━━\u001B[0m\u001B[37m\u001B[0m \u001B[1m51s\u001B[0m 1s/step - accuracy: 0.8265 - loss: 0.6054 - val_accuracy: 0.3918 - val_loss: 1.8827 - learning_rate: 8.0000e-07\n",
      "Epoch 13/35\n",
      "\u001B[1m43/43\u001B[0m \u001B[32m━━━━━━━━━━━━━━━━━━━━\u001B[0m\u001B[37m\u001B[0m \u001B[1m54s\u001B[0m 1s/step - accuracy: 0.8090 - loss: 0.6163 - val_accuracy: 0.3936 - val_loss: 1.8841 - learning_rate: 8.0000e-07\n",
      "Epoch 14/35\n",
      "\u001B[1m43/43\u001B[0m \u001B[32m━━━━━━━━━━━━━━━━━━━━\u001B[0m\u001B[37m\u001B[0m \u001B[1m59s\u001B[0m 1s/step - accuracy: 0.8188 - loss: 0.6061 - val_accuracy: 0.3936 - val_loss: 1.8845 - learning_rate: 8.0000e-07\n",
      "Epoch 15/35\n",
      "\u001B[1m43/43\u001B[0m \u001B[32m━━━━━━━━━━━━━━━━━━━━\u001B[0m\u001B[37m\u001B[0m \u001B[1m56s\u001B[0m 1s/step - accuracy: 0.8410 - loss: 0.6042 - val_accuracy: 0.3901 - val_loss: 1.8845 - learning_rate: 1.6000e-07\n",
      "Epoch 16/35\n",
      "\u001B[1m43/43\u001B[0m \u001B[32m━━━━━━━━━━━━━━━━━━━━\u001B[0m\u001B[37m\u001B[0m \u001B[1m50s\u001B[0m 1s/step - accuracy: 0.8377 - loss: 0.5682 - val_accuracy: 0.3918 - val_loss: 1.8844 - learning_rate: 1.6000e-07\n",
      "Epoch 17/35\n",
      "\u001B[1m43/43\u001B[0m \u001B[32m━━━━━━━━━━━━━━━━━━━━\u001B[0m\u001B[37m\u001B[0m \u001B[1m54s\u001B[0m 1s/step - accuracy: 0.8310 - loss: 0.5898 - val_accuracy: 0.3901 - val_loss: 1.8843 - learning_rate: 1.6000e-07\n"
     ]
    }
   ],
   "source": [
    "# Fit the model\n",
    "history = model.fit(\n",
    "    train_generator,\n",
    "    epochs=35,\n",
    "    validation_data=valid_generator,\n",
    "    class_weight=class_weights,\n",
    "    callbacks=[early_stopping, reduce_lr]\n",
    ")"
   ],
   "metadata": {
    "collapsed": false,
    "ExecuteTime": {
     "end_time": "2024-07-03T01:34:30.133683500Z",
     "start_time": "2024-07-03T01:19:11.740211900Z"
    }
   },
   "id": "80e42e7ff99bf0cf"
  },
  {
   "cell_type": "code",
   "execution_count": 14,
   "outputs": [
    {
     "name": "stderr",
     "output_type": "stream",
     "text": [
      "C:\\Users\\chena\\AppData\\Local\\Packages\\PythonSoftwareFoundation.Python.3.11_qbz5n2kfra8p0\\LocalCache\\local-packages\\Python311\\site-packages\\keras\\src\\trainers\\data_adapters\\py_dataset_adapter.py:121: UserWarning: Your `PyDataset` class should call `super().__init__(**kwargs)` in its constructor. `**kwargs` can include `workers`, `use_multiprocessing`, `max_queue_size`. Do not pass these arguments to `fit()`, as they will be ignored.\n",
      "  self._warn_if_super_not_called()\n"
     ]
    },
    {
     "name": "stdout",
     "output_type": "stream",
     "text": [
      "\u001B[1m26/26\u001B[0m \u001B[32m━━━━━━━━━━━━━━━━━━━━\u001B[0m\u001B[37m\u001B[0m \u001B[1m25s\u001B[0m 932ms/step\n",
      "F1 Score: 0.27617099353701535\n",
      "\u001B[1m26/26\u001B[0m \u001B[32m━━━━━━━━━━━━━━━━━━━━\u001B[0m\u001B[37m\u001B[0m \u001B[1m20s\u001B[0m 782ms/step - accuracy: 0.2363 - loss: 2.6054\n",
      "loss: 2.412280559539795\n",
      "compile_metrics: 0.3239263892173767\n",
      "              precision    recall  f1-score   support\n",
      "\n",
      "       Angry       0.07      0.17      0.10        47\n",
      "     Disgust       0.00      0.00      0.00        65\n",
      "        Fear       0.00      0.00      0.00        76\n",
      "       Happy       0.64      0.43      0.52       281\n",
      "     Neutral       0.26      0.67      0.37       200\n",
      "         Sad       0.00      0.00      0.00        57\n",
      "    Surprise       0.00      0.00      0.00        89\n",
      "\n",
      "    accuracy                           0.32       815\n",
      "   macro avg       0.14      0.18      0.14       815\n",
      "weighted avg       0.29      0.32      0.28       815\n"
     ]
    },
    {
     "name": "stderr",
     "output_type": "stream",
     "text": [
      "C:\\Users\\chena\\AppData\\Local\\Packages\\PythonSoftwareFoundation.Python.3.11_qbz5n2kfra8p0\\LocalCache\\local-packages\\Python311\\site-packages\\sklearn\\metrics\\_classification.py:1469: UndefinedMetricWarning: Precision and F-score are ill-defined and being set to 0.0 in labels with no predicted samples. Use `zero_division` parameter to control this behavior.\n",
      "  _warn_prf(average, modifier, msg_start, len(result))\n",
      "C:\\Users\\chena\\AppData\\Local\\Packages\\PythonSoftwareFoundation.Python.3.11_qbz5n2kfra8p0\\LocalCache\\local-packages\\Python311\\site-packages\\sklearn\\metrics\\_classification.py:1469: UndefinedMetricWarning: Precision and F-score are ill-defined and being set to 0.0 in labels with no predicted samples. Use `zero_division` parameter to control this behavior.\n",
      "  _warn_prf(average, modifier, msg_start, len(result))\n",
      "C:\\Users\\chena\\AppData\\Local\\Packages\\PythonSoftwareFoundation.Python.3.11_qbz5n2kfra8p0\\LocalCache\\local-packages\\Python311\\site-packages\\sklearn\\metrics\\_classification.py:1469: UndefinedMetricWarning: Precision and F-score are ill-defined and being set to 0.0 in labels with no predicted samples. Use `zero_division` parameter to control this behavior.\n",
      "  _warn_prf(average, modifier, msg_start, len(result))\n"
     ]
    },
    {
     "data": {
      "text/plain": "<Axes: >"
     },
     "execution_count": 14,
     "metadata": {},
     "output_type": "execute_result"
    },
    {
     "data": {
      "text/plain": "<Figure size 1200x900 with 2 Axes>",
      "image/png": "[encoded data removed]"
     },
     "metadata": {},
     "output_type": "display_data"
    }
   ],
   "source": [
    "# import seaborn as sns\n",
    "from sklearn.metrics import f1_score, classification_report, confusion_matrix\n",
    "import matplotlib.pyplot as plt\n",
    "\n",
    "# sns.heatmap(df_cm, annot=True, fmt='g')\n",
    "# Get the ground truth labels and predictions\n",
    "test_labels = test_generator.classes\n",
    "test_pred_probs = model.predict(test_generator)\n",
    "test_preds = np.argmax(test_pred_probs, axis=1)\n",
    "\n",
    "# Compute the F1 score\n",
    "f1 = f1_score(test_labels, test_preds, average='weighted')\n",
    "print(f'F1 Score: {f1}')\n",
    "\n",
    "# Evaluate the model on the test set\n",
    "results = model.evaluate(test_generator)\n",
    "\n",
    "# Print all the metrics\n",
    "for name, value in zip(model.metrics_names, results):\n",
    "    print(f'{name}: {value}')\n",
    "\n",
    "# Print classification report\n",
    "print(classification_report(test_labels, test_preds, target_names=valid_generator.class_indices.keys()))\n",
    "\n",
    "# Print confusion matrix\n",
    "cm = confusion_matrix(test_labels, test_preds)\n",
    "df_cm = pd.DataFrame(cm, index=[i for i in emotions],\n",
    "                     columns=[i for i in emotions])\n",
    "plt.figure(figsize=(12, 9))\n",
    "plt.xlabel('Actual')\n",
    "plt.ylabel('Predicted')\n",
    "sns.heatmap(df_cm, annot=True, fmt='g')"
   ],
   "metadata": {
    "collapsed": false,
    "ExecuteTime": {
     "end_time": "2024-07-03T01:35:16.532814100Z",
     "start_time": "2024-07-03T01:34:30.138197500Z"
    }
   },
   "id": "a43e5ec1f49cfdf9"
  },
  {
   "cell_type": "code",
   "execution_count": 15,
   "outputs": [
    {
     "name": "stdout",
     "output_type": "stream",
     "text": [
      "\u001B[1m26/26\u001B[0m \u001B[32m━━━━━━━━━━━━━━━━━━━━\u001B[0m\u001B[37m\u001B[0m \u001B[1m20s\u001B[0m 778ms/step\n",
      "Size of group: 163\n",
      "Size of group: 588\n",
      "Size of group: 64\n",
      "Accuracy for B: 41.10\n",
      "Accuracy for W: 30.27\n",
      "Accuracy for M: 29.69\n"
     ]
    }
   ],
   "source": [
    "import numpy as np\n",
    "\n",
    "# Get predictions on the test set\n",
    "test_generator.reset()\n",
    "predictions = model.predict(test_generator, verbose=1)\n",
    "predicted_classes = np.argmax(predictions, axis=1)\n",
    "true_classes = test_generator.classes\n",
    "class_labels = list(test_generator.class_indices.keys())\n",
    "\n",
    "# Create a DataFrame for the test results\n",
    "test_df['predicted'] = predicted_classes\n",
    "test_df['true'] = true_classes\n",
    "\n",
    "\n",
    "# Calculate accuracy for each ethnic group\n",
    "represented_races = ['B', 'W', 'M']\n",
    "ethnic_results = {}\n",
    "# \n",
    "for group in represented_races:\n",
    "    group_df = test_df[test_df['Skin_tone'] == group]\n",
    "    print(f'Size of group: {len(group_df)}')\n",
    "    correct_predictions = np.sum(group_df['predicted'] == group_df['true'])\n",
    "    incorrect_predictions = len(group_df) - correct_predictions\n",
    "    ethnic_results[group] = correct_predictions / (correct_predictions + incorrect_predictions) * 100\n",
    "    \n",
    "# Display the accuracy for each ethnic group\n",
    "for group, accuracy in ethnic_results.items():\n",
    "    print(f'Accuracy for {group}: {accuracy:.2f}')"
   ],
   "metadata": {
    "collapsed": false,
    "ExecuteTime": {
     "end_time": "2024-07-03T01:35:36.971802800Z",
     "start_time": "2024-07-03T01:35:16.528817700Z"
    }
   },
   "id": "c5ea615ec9e8612a"
  },
  {
   "cell_type": "code",
   "execution_count": 16,
   "outputs": [
    {
     "data": {
      "text/plain": "                                                  path   emotion Skin_tone  \\\n0    C:\\Users\\chena\\Desktop\\ResearchProject\\EiLA/Pr...     Angry         W   \n1    C:\\Users\\chena\\Desktop\\ResearchProject\\EiLA/Pr...     Angry         W   \n3    C:\\Users\\chena\\Desktop\\ResearchProject\\EiLA/Pr...     Angry         W   \n4    C:\\Users\\chena\\Desktop\\ResearchProject\\EiLA/Pr...     Angry         W   \n5    C:\\Users\\chena\\Desktop\\ResearchProject\\EiLA/Pr...     Angry         W   \n..                                                 ...       ...       ...   \n810  C:\\Users\\chena\\Desktop\\ResearchProject\\EiLA/Pr...  Surprise         W   \n811  C:\\Users\\chena\\Desktop\\ResearchProject\\EiLA/Pr...  Surprise         W   \n812  C:\\Users\\chena\\Desktop\\ResearchProject\\EiLA/Pr...  Surprise         W   \n813  C:\\Users\\chena\\Desktop\\ResearchProject\\EiLA/Pr...  Surprise         W   \n814  C:\\Users\\chena\\Desktop\\ResearchProject\\EiLA/Pr...  Surprise         W   \n\n     predicted  true  \n0            4     0  \n1            4     0  \n3            4     0  \n4            4     0  \n5            4     0  \n..         ...   ...  \n810          4     6  \n811          4     6  \n812          4     6  \n813          4     6  \n814          3     6  \n\n[551 rows x 5 columns]",
      "text/html": "<div>\n<style scoped>\n    .dataframe tbody tr th:only-of-type {\n        vertical-align: middle;\n    }\n\n    .dataframe tbody tr th {\n        vertical-align: top;\n    }\n\n    .dataframe thead th {\n        text-align: right;\n    }\n</style>\n<table border=\"1\" class=\"dataframe\">\n  <thead>\n    <tr style=\"text-align: right;\">\n      <th></th>\n      <th>path</th>\n      <th>emotion</th>\n      <th>Skin_tone</th>\n      <th>predicted</th>\n      <th>true</th>\n    </tr>\n  </thead>\n  <tbody>\n    <tr>\n      <th>0</th>\n      <td>C:\\Users\\chena\\Desktop\\ResearchProject\\EiLA/Pr...</td>\n      <td>Angry</td>\n      <td>W</td>\n      <td>4</td>\n      <td>0</td>\n    </tr>\n    <tr>\n      <th>1</th>\n      <td>C:\\Users\\chena\\Desktop\\ResearchProject\\EiLA/Pr...</td>\n      <td>Angry</td>\n      <td>W</td>\n      <td>4</td>\n      <td>0</td>\n    </tr>\n    <tr>\n      <th>3</th>\n      <td>C:\\Users\\chena\\Desktop\\ResearchProject\\EiLA/Pr...</td>\n      <td>Angry</td>\n      <td>W</td>\n      <td>4</td>\n      <td>0</td>\n    </tr>\n    <tr>\n      <th>4</th>\n      <td>C:\\Users\\chena\\Desktop\\ResearchProject\\EiLA/Pr...</td>\n      <td>Angry</td>\n      <td>W</td>\n      <td>4</td>\n      <td>0</td>\n    </tr>\n    <tr>\n      <th>5</th>\n      <td>C:\\Users\\chena\\Desktop\\ResearchProject\\EiLA/Pr...</td>\n      <td>Angry</td>\n      <td>W</td>\n      <td>4</td>\n      <td>0</td>\n    </tr>\n    <tr>\n      <th>...</th>\n      <td>...</td>\n      <td>...</td>\n      <td>...</td>\n      <td>...</td>\n      <td>...</td>\n    </tr>\n    <tr>\n      <th>810</th>\n      <td>C:\\Users\\chena\\Desktop\\ResearchProject\\EiLA/Pr...</td>\n      <td>Surprise</td>\n      <td>W</td>\n      <td>4</td>\n      <td>6</td>\n    </tr>\n    <tr>\n      <th>811</th>\n      <td>C:\\Users\\chena\\Desktop\\ResearchProject\\EiLA/Pr...</td>\n      <td>Surprise</td>\n      <td>W</td>\n      <td>4</td>\n      <td>6</td>\n    </tr>\n    <tr>\n      <th>812</th>\n      <td>C:\\Users\\chena\\Desktop\\ResearchProject\\EiLA/Pr...</td>\n      <td>Surprise</td>\n      <td>W</td>\n      <td>4</td>\n      <td>6</td>\n    </tr>\n    <tr>\n      <th>813</th>\n      <td>C:\\Users\\chena\\Desktop\\ResearchProject\\EiLA/Pr...</td>\n      <td>Surprise</td>\n      <td>W</td>\n      <td>4</td>\n      <td>6</td>\n    </tr>\n    <tr>\n      <th>814</th>\n      <td>C:\\Users\\chena\\Desktop\\ResearchProject\\EiLA/Pr...</td>\n      <td>Surprise</td>\n      <td>W</td>\n      <td>3</td>\n      <td>6</td>\n    </tr>\n  </tbody>\n</table>\n<p>551 rows × 5 columns</p>\n</div>"
     },
     "execution_count": 16,
     "metadata": {},
     "output_type": "execute_result"
    }
   ],
   "source": [
    "correct_df = test_df[test_df['predicted'] == test_df['true']]\n",
    "correct_df\n",
    "incorrect_df = test_df[test_df['predicted'] != test_df['true']]\n",
    "incorrect_df"
   ],
   "metadata": {
    "collapsed": false,
    "ExecuteTime": {
     "end_time": "2024-07-03T01:35:36.978459Z",
     "start_time": "2024-07-03T01:35:36.967802800Z"
    }
   },
   "id": "a717330bab9a63f5"
  },
  {
   "cell_type": "code",
   "execution_count": 19,
   "outputs": [
    {
     "name": "stdout",
     "output_type": "stream",
     "text": [
      "C:\\Users\\chena\\Desktop\\ResearchProject\\Experiment_Output/SFEW\\SFEW+10%EiLA_correct.csv\n"
     ]
    }
   ],
   "source": [
    "experiment_name = paths[experiment][0].split('/')[0]\n",
    "\n",
    "if 'FER2013' in experiment_name:\n",
    "    experiment_group = 'FER2013'\n",
    "else:\n",
    "    experiment_group = 'SFEW'\n",
    "    \n",
    "print(os.path.join(grandparent_dir, 'Experiment_Output/' + experiment_group, paths[experiment][0].split('/')[0] + '_correct.csv'))\n",
    "correct_df.to_csv(os.path.join(grandparent_dir, 'Experiment_Output/' + experiment_group, paths[experiment][0].split('/')[0] + '_correct.csv'), sep=',', index=False, encoding='utf-8', na_rep='N/A')\n",
    "incorrect_df.to_csv(os.path.join(grandparent_dir, 'Experiment_Output/' + experiment_group, paths[experiment][0].split('/')[0] + '_incorrect.csv'), sep=',', index=False, encoding='utf-8', na_rep='N/A')"
   ],
   "metadata": {
    "collapsed": false,
    "ExecuteTime": {
     "end_time": "2024-07-03T01:41:24.391130800Z",
     "start_time": "2024-07-03T01:41:24.372950500Z"
    }
   },
   "id": "78b6523555706911"
  }
 ],
 "metadata": {
  "kernelspec": {
   "display_name": "Python 3",
   "language": "python",
   "name": "python3"
  },
  "language_info": {
   "codemirror_mode": {
    "name": "ipython",
    "version": 2
   },
   "file_extension": ".py",
   "mimetype": "text/x-python",
   "name": "python",
   "nbconvert_exporter": "python",
   "pygments_lexer": "ipython2",
   "version": "2.7.6"
  }
 },
 "nbformat": 4,
 "nbformat_minor": 5
}
