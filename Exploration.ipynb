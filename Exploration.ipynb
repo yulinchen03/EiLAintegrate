{
 "cells": [
  {
   "cell_type": "code",
   "execution_count": 5,
   "id": "initial_id",
   "metadata": {
    "collapsed": true,
    "ExecuteTime": {
     "end_time": "2024-05-15T11:35:42.594199200Z",
     "start_time": "2024-05-15T11:35:42.589585400Z"
    }
   },
   "outputs": [],
   "source": [
    "import csv\n",
    "import os\n",
    "import cv2\n",
    "from ultralytics import YOLO"
   ]
  },
  {
   "cell_type": "code",
   "execution_count": 6,
   "outputs": [],
   "source": [
    "annotations_csv = os.path.join(os.pardir, 'Annotations/annotations.csv')\n",
    "videos_folder = os.path.join(os.pardir, 'Videos')\n",
    "\n",
    "outputs_path = os.path.join(os.pardir, 'Annotations_Output')\n",
    "if not os.path.exists(outputs_path):\n",
    "    os.makedirs(outputs_path)\n",
    "\n",
    "model = YOLO(\"yolov8n-face.pt\")"
   ],
   "metadata": {
    "collapsed": false,
    "ExecuteTime": {
     "end_time": "2024-05-15T11:35:43.603898Z",
     "start_time": "2024-05-15T11:35:43.568894Z"
    }
   },
   "id": "8988bb583a2fbfd8"
  },
  {
   "cell_type": "code",
   "execution_count": 7,
   "outputs": [
    {
     "ename": "FileNotFoundError",
     "evalue": "[Errno 2] No such file or directory: '..\\\\Annotations/annotations.csv'",
     "output_type": "error",
     "traceback": [
      "\u001B[1;31m---------------------------------------------------------------------------\u001B[0m",
      "\u001B[1;31mFileNotFoundError\u001B[0m                         Traceback (most recent call last)",
      "Cell \u001B[1;32mIn[7], line 1\u001B[0m\n\u001B[1;32m----> 1\u001B[0m \u001B[38;5;28;01mwith\u001B[39;00m \u001B[38;5;28;43mopen\u001B[39;49m\u001B[43m(\u001B[49m\u001B[43mannotations_csv\u001B[49m\u001B[43m,\u001B[49m\u001B[43m \u001B[49m\u001B[43mnewline\u001B[49m\u001B[38;5;241;43m=\u001B[39;49m\u001B[38;5;124;43m'\u001B[39;49m\u001B[38;5;124;43m'\u001B[39;49m\u001B[43m)\u001B[49m \u001B[38;5;28;01mas\u001B[39;00m csvfile:\n\u001B[0;32m      2\u001B[0m     \u001B[38;5;66;03m# Create a CSV reader object\u001B[39;00m\n\u001B[0;32m      3\u001B[0m     reader \u001B[38;5;241m=\u001B[39m csv\u001B[38;5;241m.\u001B[39mreader(csvfile)\n\u001B[0;32m      4\u001B[0m     \u001B[38;5;28mnext\u001B[39m(reader)\n",
      "File \u001B[1;32m~\\AppData\\Local\\Packages\\PythonSoftwareFoundation.Python.3.11_qbz5n2kfra8p0\\LocalCache\\local-packages\\Python311\\site-packages\\IPython\\core\\interactiveshell.py:286\u001B[0m, in \u001B[0;36m_modified_open\u001B[1;34m(file, *args, **kwargs)\u001B[0m\n\u001B[0;32m    279\u001B[0m \u001B[38;5;28;01mif\u001B[39;00m file \u001B[38;5;129;01min\u001B[39;00m {\u001B[38;5;241m0\u001B[39m, \u001B[38;5;241m1\u001B[39m, \u001B[38;5;241m2\u001B[39m}:\n\u001B[0;32m    280\u001B[0m     \u001B[38;5;28;01mraise\u001B[39;00m \u001B[38;5;167;01mValueError\u001B[39;00m(\n\u001B[0;32m    281\u001B[0m         \u001B[38;5;124mf\u001B[39m\u001B[38;5;124m\"\u001B[39m\u001B[38;5;124mIPython won\u001B[39m\u001B[38;5;124m'\u001B[39m\u001B[38;5;124mt let you open fd=\u001B[39m\u001B[38;5;132;01m{\u001B[39;00mfile\u001B[38;5;132;01m}\u001B[39;00m\u001B[38;5;124m by default \u001B[39m\u001B[38;5;124m\"\u001B[39m\n\u001B[0;32m    282\u001B[0m         \u001B[38;5;124m\"\u001B[39m\u001B[38;5;124mas it is likely to crash IPython. If you know what you are doing, \u001B[39m\u001B[38;5;124m\"\u001B[39m\n\u001B[0;32m    283\u001B[0m         \u001B[38;5;124m\"\u001B[39m\u001B[38;5;124myou can use builtins\u001B[39m\u001B[38;5;124m'\u001B[39m\u001B[38;5;124m open.\u001B[39m\u001B[38;5;124m\"\u001B[39m\n\u001B[0;32m    284\u001B[0m     )\n\u001B[1;32m--> 286\u001B[0m \u001B[38;5;28;01mreturn\u001B[39;00m \u001B[43mio_open\u001B[49m\u001B[43m(\u001B[49m\u001B[43mfile\u001B[49m\u001B[43m,\u001B[49m\u001B[43m \u001B[49m\u001B[38;5;241;43m*\u001B[39;49m\u001B[43margs\u001B[49m\u001B[43m,\u001B[49m\u001B[43m \u001B[49m\u001B[38;5;241;43m*\u001B[39;49m\u001B[38;5;241;43m*\u001B[39;49m\u001B[43mkwargs\u001B[49m\u001B[43m)\u001B[49m\n",
      "\u001B[1;31mFileNotFoundError\u001B[0m: [Errno 2] No such file or directory: '..\\\\Annotations/annotations.csv'"
     ]
    }
   ],
   "source": [
    "with open(annotations_csv, newline='') as csvfile:\n",
    "    # Create a CSV reader object\n",
    "    reader = csv.reader(csvfile)\n",
    "    next(reader)\n",
    "    # Loop through each row in the CSV file\n",
    "    for idx, row in enumerate(reader):\n",
    "        print(idx, row)\n",
    "        # Assuming each row has three values, you can save them into variables\n",
    "        # Change the variable names and number according to your CSV structure\n",
    "        video_tag, clip_id, label, frame_no, x, y, w, h, person_id = row\n",
    "        video_folder_path = os.path.join(videos_folder, video_tag)\n",
    "        video_path = os.path.join(video_folder_path, 'Complete.mp4')\n",
    "\n",
    "        output_video_path = os.path.join(outputs_path, video_tag)\n",
    "        if not os.path.exists(output_video_path):\n",
    "            os.makedirs(output_video_path)\n",
    "\n",
    "        cam = cv2.VideoCapture(video_path)\n",
    "        if not cam.isOpened():\n",
    "            print(\"Error: Couldn't open the video file.\")\n",
    "            exit()\n",
    "\n",
    "        cam.set(cv2.CAP_PROP_POS_FRAMES, int(frame_no))\n",
    "\n",
    "        ret, frame = cam.read()\n",
    "\n",
    "        # Check if the frame is read successfully\n",
    "        if not ret:\n",
    "            print(\"Error: Couldn't read the frame.\")\n",
    "            exit()\n",
    "\n",
    "        height = int(cam.get(cv2.CAP_PROP_FRAME_HEIGHT))\n",
    "        width = int(cam.get(cv2.CAP_PROP_FRAME_WIDTH))\n",
    "\n",
    "        x = int((float(x)/100) * width)\n",
    "        y = int((float(y)/100) * height)\n",
    "        w = int((float(w)/100) * width)\n",
    "        h = int((float(h)/100) * height)\n",
    "\n",
    "        text_x = 0\n",
    "        text_y = h-20\n",
    "\n",
    "        print(y)\n",
    "        print(h)\n",
    "        print(y+h)\n",
    "        print(x)\n",
    "        print(w)\n",
    "        print(x+w)\n",
    "\n",
    "        crop_img = frame[y:y + h, x:x + w]\n",
    "\n",
    "        results = model(crop_img)\n",
    "        boxes = results[0].boxes\n",
    "\n",
    "        for box in boxes:\n",
    "            top_left_x = int(box.xyxy.tolist()[0][0])\n",
    "            top_left_y = int(box.xyxy.tolist()[0][1])\n",
    "            bottom_right_x = int(box.xyxy.tolist()[0][2])\n",
    "            bottom_right_y = int(box.xyxy.tolist()[0][3])\n",
    "\n",
    "        print(top_left_x)\n",
    "        print(top_left_y)\n",
    "        print(bottom_right_x)\n",
    "        print(bottom_right_y)\n",
    "\n",
    "        cropped_img = crop_img[top_left_y:bottom_right_y, top_left_x:bottom_right_x]\n",
    "\n",
    "        # Load the cascade\n",
    "        face_cascade = cv2.CascadeClassifier(cv2.data.haarcascades + 'haarcascade_frontalface_default.xml')\n",
    "        \n",
    "        # Read the input image\n",
    "        img = cv2.imread('suspected_face.jpg')\n",
    "        \n",
    "        # Convert into grayscale\n",
    "        gray = cv2.cvtColor(img, cv2.COLOR_BGR2GRAY)\n",
    "        \n",
    "        # Detect faces\n",
    "        faces = face_cascade.detectMultiScale(gray, 1.1, 4)\n",
    "        \n",
    "        # If faces are found, it returns the positions of detected faces as Rect(x,y,w,h).\n",
    "        if len(faces) > 0:\n",
    "            print(\"True - Human face is present.\")\n",
    "        else:\n",
    "            print(\"False - Human face is not present.\")\n",
    "\n",
    "        # Wait for a key press and then close the image window\n",
    "        cv2.waitKey(0)\n",
    "        cv2.destroyAllWindows()\n",
    "\n",
    "        # crop_img = frame[top_left_y:bottom_right_y, top_left_x:bottom_right_x]\n",
    "\n",
    "        # cv2.rectangle(crop_img, (top_left_x, top_left_y), (bottom_right_x, bottom_right_y), (0, 255, 0), 2)\n",
    "        # # Write the string close to the bounding box\n",
    "        # cv2.putText(crop_img, label, (text_x, text_y), cv2.FONT_HERSHEY_SIMPLEX, 0.4, (0, 255, 0))\n",
    "\n",
    "        # Save the result\n",
    "        cv2.imwrite(output_video_path + \"\\\\\" + str(idx) + '.jpg', crop_img)"
   ],
   "metadata": {
    "collapsed": false,
    "ExecuteTime": {
     "end_time": "2024-05-15T11:35:44.168510100Z",
     "start_time": "2024-05-15T11:35:44.041722400Z"
    }
   },
   "id": "9474b6daa1e0c287"
  },
  {
   "cell_type": "code",
   "execution_count": null,
   "outputs": [],
   "source": [],
   "metadata": {
    "collapsed": false,
    "ExecuteTime": {
     "start_time": "2024-04-30T20:43:13.984510Z"
    }
   },
   "id": "4248c36a5a454f7e"
  }
 ],
 "metadata": {
  "kernelspec": {
   "display_name": "Python 3",
   "language": "python",
   "name": "python3"
  },
  "language_info": {
   "codemirror_mode": {
    "name": "ipython",
    "version": 2
   },
   "file_extension": ".py",
   "mimetype": "text/x-python",
   "name": "python",
   "nbconvert_exporter": "python",
   "pygments_lexer": "ipython2",
   "version": "2.7.6"
  }
 },
 "nbformat": 4,
 "nbformat_minor": 5
}
